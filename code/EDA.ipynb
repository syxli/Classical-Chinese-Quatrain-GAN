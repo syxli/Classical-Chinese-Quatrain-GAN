{
 "cells": [
  {
   "cell_type": "code",
   "execution_count": 1,
   "id": "1faa571c-a7df-4927-aa20-e8c416accad8",
   "metadata": {},
   "outputs": [],
   "source": [
    "import numpy as np\n",
    "import pandas as pd\n",
    "import spacy\n",
    "from sklearn.feature_extraction.text import CountVectorizer"
   ]
  },
  {
   "cell_type": "code",
   "execution_count": 2,
   "id": "a2be82b7-01c6-4465-a256-65ce9669c022",
   "metadata": {},
   "outputs": [],
   "source": [
    "df = pd.read_csv('../data/quatrains.csv')"
   ]
  },
  {
   "cell_type": "code",
   "execution_count": 3,
   "id": "c56c5750-f557-413e-a2b1-9b7437472d1f",
   "metadata": {},
   "outputs": [],
   "source": [
    "df['text_split'] = df.text.map(lambda x: ' '.join(x))"
   ]
  },
  {
   "cell_type": "code",
   "execution_count": 4,
   "id": "0ef97c9c-4822-4015-b085-3791e713beea",
   "metadata": {},
   "outputs": [],
   "source": [
    "X = df['text_split']"
   ]
  },
  {
   "cell_type": "code",
   "execution_count": 5,
   "id": "92d06466-80f1-472a-ab8b-4918d1ae3630",
   "metadata": {},
   "outputs": [],
   "source": [
    "cvec = CountVectorizer(tokenizer=lambda x: x.split())"
   ]
  },
  {
   "cell_type": "code",
   "execution_count": 6,
   "id": "c61ed2a6-61e9-4387-9a07-d440d5fc3792",
   "metadata": {},
   "outputs": [],
   "source": [
    "X = cvec.fit_transform(X)"
   ]
  },
  {
   "cell_type": "code",
   "execution_count": 7,
   "id": "b9b30e18-ad7e-4c71-90e2-72930439691b",
   "metadata": {},
   "outputs": [
    {
     "data": {
      "text/plain": [
       "8568"
      ]
     },
     "execution_count": 7,
     "metadata": {},
     "output_type": "execute_result"
    }
   ],
   "source": [
    "len(pd.DataFrame(cvec.get_feature_names())[0])"
   ]
  },
  {
   "cell_type": "code",
   "execution_count": 8,
   "id": "4c456ded-e0ce-45d2-83fc-630bb7805575",
   "metadata": {},
   "outputs": [],
   "source": [
    "char_list = pd.DataFrame(cvec.get_feature_names())"
   ]
  },
  {
   "cell_type": "code",
   "execution_count": 9,
   "id": "9b9a9026-fa39-4520-b6a1-fe4b3cd3b69d",
   "metadata": {},
   "outputs": [
    {
     "data": {
      "text/html": [
       "<div>\n",
       "<style scoped>\n",
       "    .dataframe tbody tr th:only-of-type {\n",
       "        vertical-align: middle;\n",
       "    }\n",
       "\n",
       "    .dataframe tbody tr th {\n",
       "        vertical-align: top;\n",
       "    }\n",
       "\n",
       "    .dataframe thead th {\n",
       "        text-align: right;\n",
       "    }\n",
       "</style>\n",
       "<table border=\"1\" class=\"dataframe\">\n",
       "  <thead>\n",
       "    <tr style=\"text-align: right;\">\n",
       "      <th></th>\n",
       "      <th>0</th>\n",
       "    </tr>\n",
       "  </thead>\n",
       "  <tbody>\n",
       "    <tr>\n",
       "      <th>0</th>\n",
       "      <td>㑹</td>\n",
       "    </tr>\n",
       "    <tr>\n",
       "      <th>1</th>\n",
       "      <td>㒿</td>\n",
       "    </tr>\n",
       "    <tr>\n",
       "      <th>2</th>\n",
       "      <td>㕙</td>\n",
       "    </tr>\n",
       "    <tr>\n",
       "      <th>3</th>\n",
       "      <td>㕮</td>\n",
       "    </tr>\n",
       "    <tr>\n",
       "      <th>4</th>\n",
       "      <td>㖀</td>\n",
       "    </tr>\n",
       "    <tr>\n",
       "      <th>...</th>\n",
       "      <td>...</td>\n",
       "    </tr>\n",
       "    <tr>\n",
       "      <th>8563</th>\n",
       "      <td>𫇢</td>\n",
       "    </tr>\n",
       "    <tr>\n",
       "      <th>8564</th>\n",
       "      <td>𬋖</td>\n",
       "    </tr>\n",
       "    <tr>\n",
       "      <th>8565</th>\n",
       "      <td>𮪃</td>\n",
       "    </tr>\n",
       "    <tr>\n",
       "      <th>8566</th>\n",
       "      <td>𮫃</td>\n",
       "    </tr>\n",
       "    <tr>\n",
       "      <th>8567</th>\n",
       "      <td>𮭗</td>\n",
       "    </tr>\n",
       "  </tbody>\n",
       "</table>\n",
       "<p>8568 rows × 1 columns</p>\n",
       "</div>"
      ],
      "text/plain": [
       "      0\n",
       "0     㑹\n",
       "1     㒿\n",
       "2     㕙\n",
       "3     㕮\n",
       "4     㖀\n",
       "...  ..\n",
       "8563  𫇢\n",
       "8564  𬋖\n",
       "8565  𮪃\n",
       "8566  𮫃\n",
       "8567  𮭗\n",
       "\n",
       "[8568 rows x 1 columns]"
      ]
     },
     "execution_count": 9,
     "metadata": {},
     "output_type": "execute_result"
    }
   ],
   "source": [
    "char_list"
   ]
  },
  {
   "cell_type": "code",
   "execution_count": 10,
   "id": "2cb44a0a-9f12-47c4-8d89-4378b6a68e37",
   "metadata": {},
   "outputs": [],
   "source": [
    "char_list.to_excel('../data/char_list.xlsx')"
   ]
  },
  {
   "cell_type": "code",
   "execution_count": null,
   "id": "47fc4d9f-ae06-4f76-be16-ddc9b477f79f",
   "metadata": {},
   "outputs": [],
   "source": []
  }
 ],
 "metadata": {
  "kernelspec": {
   "display_name": "Python 3 (ipykernel)",
   "language": "python",
   "name": "python3"
  },
  "language_info": {
   "codemirror_mode": {
    "name": "ipython",
    "version": 3
   },
   "file_extension": ".py",
   "mimetype": "text/x-python",
   "name": "python",
   "nbconvert_exporter": "python",
   "pygments_lexer": "ipython3",
   "version": "3.9.7"
  }
 },
 "nbformat": 4,
 "nbformat_minor": 5
}
