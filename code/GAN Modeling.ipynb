{
 "cells": [
  {
   "cell_type": "code",
   "execution_count": 1,
   "id": "f46bd839-ee55-4c0d-b1ab-3010e5f9d5ed",
   "metadata": {},
   "outputs": [],
   "source": [
    "import pandas as pd\n",
    "import numpy as np"
   ]
  },
  {
   "cell_type": "code",
   "execution_count": 83,
   "id": "c4925515-f426-4c3d-a138-15da9dcd2bee",
   "metadata": {},
   "outputs": [],
   "source": [
    "poetry = pd.read_csv('../data/final_quatrains.csv')"
   ]
  },
  {
   "cell_type": "code",
   "execution_count": 72,
   "id": "50d7e194-bbed-41f7-bc0b-a67f88b9ac7a",
   "metadata": {},
   "outputs": [],
   "source": [
    "dictionary = pd.read_csv('../data/dictionary_cleaned.csv', index_col=0)"
   ]
  },
  {
   "cell_type": "code",
   "execution_count": 84,
   "id": "5062f358-6fc1-4e55-b5ac-5eae36310f7f",
   "metadata": {},
   "outputs": [
    {
     "data": {
      "text/html": [
       "<div>\n",
       "<style scoped>\n",
       "    .dataframe tbody tr th:only-of-type {\n",
       "        vertical-align: middle;\n",
       "    }\n",
       "\n",
       "    .dataframe tbody tr th {\n",
       "        vertical-align: top;\n",
       "    }\n",
       "\n",
       "    .dataframe thead th {\n",
       "        text-align: right;\n",
       "    }\n",
       "</style>\n",
       "<table border=\"1\" class=\"dataframe\">\n",
       "  <thead>\n",
       "    <tr style=\"text-align: right;\">\n",
       "      <th></th>\n",
       "      <th>text</th>\n",
       "    </tr>\n",
       "  </thead>\n",
       "  <tbody>\n",
       "    <tr>\n",
       "      <th>0</th>\n",
       "      <td>澄潭皎鏡石崔巍萬壑千岩暗綠苔林亭自有幽貞趣況複秋深爽氣來</td>\n",
       "    </tr>\n",
       "    <tr>\n",
       "      <th>1</th>\n",
       "      <td>憶昔嬌妃在紫宸鉛華不禦得天真霜綃雖似當時態爭奈嬌波不顧人</td>\n",
       "    </tr>\n",
       "    <tr>\n",
       "      <th>2</th>\n",
       "      <td>刻木牽絲作老翁雞皮鶴發與真同須臾弄罷寂無事還似人生一夢中</td>\n",
       "    </tr>\n",
       "    <tr>\n",
       "      <th>3</th>\n",
       "      <td>禁苑秋來爽氣多昆明風動起滄波中流簫鼓誠堪賞詎假橫汾發棹歌</td>\n",
       "    </tr>\n",
       "    <tr>\n",
       "      <th>4</th>\n",
       "      <td>大殿連雲接爽溪鐘聲還與鼓聲齊長安若問江南事說道風光在水西</td>\n",
       "    </tr>\n",
       "    <tr>\n",
       "      <th>...</th>\n",
       "      <td>...</td>\n",
       "    </tr>\n",
       "    <tr>\n",
       "      <th>62206</th>\n",
       "      <td>故園東望路漫漫雙袖龍鍾淚不乾馬上相逢無紙筆憑君傳語報平安</td>\n",
       "    </tr>\n",
       "    <tr>\n",
       "      <th>62207</th>\n",
       "      <td>黃沙磧裏客行迷四望雲天直下低爲言地盡天還盡行到安西更向西</td>\n",
       "    </tr>\n",
       "    <tr>\n",
       "      <th>62208</th>\n",
       "      <td>西向輪臺萬里馀也知鄉信日應疎隴山鸚鵡能言語爲報家人數寄書</td>\n",
       "    </tr>\n",
       "    <tr>\n",
       "      <th>62209</th>\n",
       "      <td>朱脣一點桃花殷宿妝嬌羞偏髻鬟細看只似陽臺女醉着莫許歸巫山</td>\n",
       "    </tr>\n",
       "    <tr>\n",
       "      <th>62210</th>\n",
       "      <td>常聞嬴女玉簫臺奏曲情深彩鳳來欲登此地銷歸恨却羨雙飛去不回</td>\n",
       "    </tr>\n",
       "  </tbody>\n",
       "</table>\n",
       "<p>62211 rows × 1 columns</p>\n",
       "</div>"
      ],
      "text/plain": [
       "                               text\n",
       "0      澄潭皎鏡石崔巍萬壑千岩暗綠苔林亭自有幽貞趣況複秋深爽氣來\n",
       "1      憶昔嬌妃在紫宸鉛華不禦得天真霜綃雖似當時態爭奈嬌波不顧人\n",
       "2      刻木牽絲作老翁雞皮鶴發與真同須臾弄罷寂無事還似人生一夢中\n",
       "3      禁苑秋來爽氣多昆明風動起滄波中流簫鼓誠堪賞詎假橫汾發棹歌\n",
       "4      大殿連雲接爽溪鐘聲還與鼓聲齊長安若問江南事說道風光在水西\n",
       "...                             ...\n",
       "62206  故園東望路漫漫雙袖龍鍾淚不乾馬上相逢無紙筆憑君傳語報平安\n",
       "62207  黃沙磧裏客行迷四望雲天直下低爲言地盡天還盡行到安西更向西\n",
       "62208  西向輪臺萬里馀也知鄉信日應疎隴山鸚鵡能言語爲報家人數寄書\n",
       "62209  朱脣一點桃花殷宿妝嬌羞偏髻鬟細看只似陽臺女醉着莫許歸巫山\n",
       "62210  常聞嬴女玉簫臺奏曲情深彩鳳來欲登此地銷歸恨却羨雙飛去不回\n",
       "\n",
       "[62211 rows x 1 columns]"
      ]
     },
     "execution_count": 84,
     "metadata": {},
     "output_type": "execute_result"
    }
   ],
   "source": [
    "poetry"
   ]
  },
  {
   "cell_type": "code",
   "execution_count": 73,
   "id": "029f59a7-9f24-451e-a359-0b33fe015c59",
   "metadata": {},
   "outputs": [
    {
     "data": {
      "text/html": [
       "<div>\n",
       "<style scoped>\n",
       "    .dataframe tbody tr th:only-of-type {\n",
       "        vertical-align: middle;\n",
       "    }\n",
       "\n",
       "    .dataframe tbody tr th {\n",
       "        vertical-align: top;\n",
       "    }\n",
       "\n",
       "    .dataframe thead th {\n",
       "        text-align: right;\n",
       "    }\n",
       "</style>\n",
       "<table border=\"1\" class=\"dataframe\">\n",
       "  <thead>\n",
       "    <tr style=\"text-align: right;\">\n",
       "      <th></th>\n",
       "      <th>char</th>\n",
       "      <th>tone</th>\n",
       "      <th>rime</th>\n",
       "      <th>ipa</th>\n",
       "      <th>tone_class</th>\n",
       "      <th>pinyin</th>\n",
       "      <th>jyutping</th>\n",
       "      <th>hangul</th>\n",
       "      <th>rime_index</th>\n",
       "      <th>meter_class</th>\n",
       "    </tr>\n",
       "  </thead>\n",
       "  <tbody>\n",
       "    <tr>\n",
       "      <th>0</th>\n",
       "      <td>㕙</td>\n",
       "      <td>平</td>\n",
       "      <td>諄</td>\n",
       "      <td>tshwin</td>\n",
       "      <td>L</td>\n",
       "      <td>jùn</td>\n",
       "      <td>㕙</td>\n",
       "      <td>준</td>\n",
       "      <td>6</td>\n",
       "      <td>1</td>\n",
       "    </tr>\n",
       "    <tr>\n",
       "      <th>1</th>\n",
       "      <td>㕮</td>\n",
       "      <td>上</td>\n",
       "      <td>麌</td>\n",
       "      <td>pju</td>\n",
       "      <td>X</td>\n",
       "      <td>fǔ</td>\n",
       "      <td>㕮</td>\n",
       "      <td>부</td>\n",
       "      <td>4</td>\n",
       "      <td>0</td>\n",
       "    </tr>\n",
       "    <tr>\n",
       "      <th>2</th>\n",
       "      <td>㖃</td>\n",
       "      <td>上</td>\n",
       "      <td>厚</td>\n",
       "      <td>huw</td>\n",
       "      <td>X</td>\n",
       "      <td>hǒu</td>\n",
       "      <td>㖃</td>\n",
       "      <td>후</td>\n",
       "      <td>14</td>\n",
       "      <td>0</td>\n",
       "    </tr>\n",
       "    <tr>\n",
       "      <th>3</th>\n",
       "      <td>㘆</td>\n",
       "      <td>上</td>\n",
       "      <td>海</td>\n",
       "      <td>thoj</td>\n",
       "      <td>X</td>\n",
       "      <td>tái</td>\n",
       "      <td>㘆</td>\n",
       "      <td>대</td>\n",
       "      <td>5</td>\n",
       "      <td>0</td>\n",
       "    </tr>\n",
       "    <tr>\n",
       "      <th>4</th>\n",
       "      <td>㘱</td>\n",
       "      <td>平</td>\n",
       "      <td>談</td>\n",
       "      <td>tham</td>\n",
       "      <td>L</td>\n",
       "      <td>㘱</td>\n",
       "      <td>㘱</td>\n",
       "      <td>담</td>\n",
       "      <td>16</td>\n",
       "      <td>1</td>\n",
       "    </tr>\n",
       "    <tr>\n",
       "      <th>...</th>\n",
       "      <td>...</td>\n",
       "      <td>...</td>\n",
       "      <td>...</td>\n",
       "      <td>...</td>\n",
       "      <td>...</td>\n",
       "      <td>...</td>\n",
       "      <td>...</td>\n",
       "      <td>...</td>\n",
       "      <td>...</td>\n",
       "      <td>...</td>\n",
       "    </tr>\n",
       "    <tr>\n",
       "      <th>7975</th>\n",
       "      <td>𩛿</td>\n",
       "      <td>平</td>\n",
       "      <td>清</td>\n",
       "      <td>zjeng</td>\n",
       "      <td>L</td>\n",
       "      <td>𩛿</td>\n",
       "      <td>𩛿</td>\n",
       "      <td>𩛿</td>\n",
       "      <td>12</td>\n",
       "      <td>1</td>\n",
       "    </tr>\n",
       "    <tr>\n",
       "      <th>7976</th>\n",
       "      <td>𩜾</td>\n",
       "      <td>平</td>\n",
       "      <td>仙</td>\n",
       "      <td>tsyen</td>\n",
       "      <td>L</td>\n",
       "      <td>𩜾</td>\n",
       "      <td>𩜾</td>\n",
       "      <td>𩜾</td>\n",
       "      <td>7</td>\n",
       "      <td>1</td>\n",
       "    </tr>\n",
       "    <tr>\n",
       "      <th>7977</th>\n",
       "      <td>𩥇</td>\n",
       "      <td>去</td>\n",
       "      <td>線</td>\n",
       "      <td>trjen</td>\n",
       "      <td>H</td>\n",
       "      <td>𩥇</td>\n",
       "      <td>𩥇</td>\n",
       "      <td>𩥇</td>\n",
       "      <td>7</td>\n",
       "      <td>0</td>\n",
       "    </tr>\n",
       "    <tr>\n",
       "      <th>7978</th>\n",
       "      <td>𩮀</td>\n",
       "      <td>平</td>\n",
       "      <td>東</td>\n",
       "      <td>tsuwng</td>\n",
       "      <td>L</td>\n",
       "      <td>𩮀</td>\n",
       "      <td>𩮀</td>\n",
       "      <td>𩮀</td>\n",
       "      <td>1</td>\n",
       "      <td>1</td>\n",
       "    </tr>\n",
       "    <tr>\n",
       "      <th>7979</th>\n",
       "      <td>𪕋</td>\n",
       "      <td>上</td>\n",
       "      <td>有</td>\n",
       "      <td>ljuw</td>\n",
       "      <td>X</td>\n",
       "      <td>𪕋</td>\n",
       "      <td>𪕋</td>\n",
       "      <td>𪕋</td>\n",
       "      <td>14</td>\n",
       "      <td>0</td>\n",
       "    </tr>\n",
       "  </tbody>\n",
       "</table>\n",
       "<p>7980 rows × 10 columns</p>\n",
       "</div>"
      ],
      "text/plain": [
       "     char tone rime     ipa tone_class pinyin jyutping hangul  rime_index  \\\n",
       "0       㕙    平    諄  tshwin          L    jùn        㕙      준           6   \n",
       "1       㕮    上    麌     pju          X     fǔ        㕮      부           4   \n",
       "2       㖃    上    厚     huw          X    hǒu        㖃      후          14   \n",
       "3       㘆    上    海    thoj          X    tái        㘆      대           5   \n",
       "4       㘱    平    談    tham          L      㘱        㘱      담          16   \n",
       "...   ...  ...  ...     ...        ...    ...      ...    ...         ...   \n",
       "7975    𩛿    平    清   zjeng          L      𩛿        𩛿      𩛿          12   \n",
       "7976    𩜾    平    仙   tsyen          L      𩜾        𩜾      𩜾           7   \n",
       "7977    𩥇    去    線   trjen          H      𩥇        𩥇      𩥇           7   \n",
       "7978    𩮀    平    東  tsuwng          L      𩮀        𩮀      𩮀           1   \n",
       "7979    𪕋    上    有    ljuw          X      𪕋        𪕋      𪕋          14   \n",
       "\n",
       "      meter_class  \n",
       "0               1  \n",
       "1               0  \n",
       "2               0  \n",
       "3               0  \n",
       "4               1  \n",
       "...           ...  \n",
       "7975            1  \n",
       "7976            1  \n",
       "7977            0  \n",
       "7978            1  \n",
       "7979            0  \n",
       "\n",
       "[7980 rows x 10 columns]"
      ]
     },
     "execution_count": 73,
     "metadata": {},
     "output_type": "execute_result"
    }
   ],
   "source": [
    "dictionary"
   ]
  },
  {
   "cell_type": "code",
   "execution_count": 74,
   "id": "38de2704-7ea5-40af-a4e8-590d0848ca7d",
   "metadata": {},
   "outputs": [],
   "source": [
    "chars = {dictionary.char[i]: i for i in range(0,len(dictionary))}\n",
    "char_dict = {i: {'char': dictionary.char[i],\n",
    "                 'tone': dictionary.tone_class[i],\n",
    "                 'rime': dictionary.rime_index[i],\n",
    "                 'meter': dictionary.meter_class[i]\n",
    "                 } for i in range(0,len(dictionary))}"
   ]
  },
  {
   "cell_type": "code",
   "execution_count": 97,
   "id": "91351f4f-9564-47f3-b371-b3ecd8489206",
   "metadata": {},
   "outputs": [],
   "source": [
    "meters = [\n",
    "    [1,1,0,0,1,1,0,\n",
    "     0,0,1,1,0,0,1,\n",
    "     0,0,1,1,0,0,1,\n",
    "     1,1,0,0,0,1,1],\n",
    "    [0,0,1,1,1,0,0,\n",
    "     1,1,0,0,0,1,1,\n",
    "     1,1,0,0,1,1,0,\n",
    "     0,0,1,1,0,0,1],\n",
    "    [1,1,0,0,0,1,1,\n",
    "     0,0,1,1,0,0,1,\n",
    "     0,0,1,1,1,0,0,\n",
    "     1,1,0,0,0,1,1],\n",
    "    [0,0,1,1,0,0,1,\n",
    "     1,1,0,0,0,1,1,\n",
    "     1,1,0,0,1,1,0,\n",
    "     0,0,1,1,0,0,1],\n",
    "    [0,0,1,1,0,0,1,\n",
    "     1,1,0,0,0,1,1,\n",
    "     1,1,0,0,1,1,0,\n",
    "     0,0,1,1,0,0,1],\n",
    "    [1,1,0,0,0,1,1,\n",
    "     0,0,1,1,0,0,1,\n",
    "     0,0,1,1,1,0,0,\n",
    "     1,1,0,0,0,1,1],\n",
    "    [0,0,1,1,1,0,0,\n",
    "     1,1,0,0,0,1,1,\n",
    "     1,1,0,0,1,1,0,\n",
    "     0,0,1,1,0,0,1],\n",
    "    [1,1,0,0,1,1,0,\n",
    "     0,0,1,1,0,0,1,\n",
    "     0,0,1,1,1,0,0,\n",
    "     1,1,0,0,0,1,1]\n",
    "]"
   ]
  },
  {
   "cell_type": "code",
   "execution_count": 19,
   "id": "a57a2345-7a30-48ab-a833-86d898ae8c4f",
   "metadata": {},
   "outputs": [],
   "source": [
    "def text_tokenizer(text):\n",
    "    return [chars[i] for i in text]"
   ]
  },
  {
   "cell_type": "code",
   "execution_count": 38,
   "id": "3fa7334b-5653-4fec-b103-b62ea5748634",
   "metadata": {},
   "outputs": [],
   "source": [
    "def token_to_text(tokens):\n",
    "    return ''.join([char_dict[i]['char'] for i in tokens])"
   ]
  },
  {
   "cell_type": "code",
   "execution_count": 115,
   "id": "666213b4-f933-48dd-a257-f43e4e91f737",
   "metadata": {},
   "outputs": [],
   "source": [
    "def rhyme_checker(tokens):\n",
    "    if char_dict[tokens[13]]['rime'] == char_dict[tokens[27]]['rime']:\n",
    "        return 1\n",
    "    else:\n",
    "        return 0"
   ]
  },
  {
   "cell_type": "code",
   "execution_count": 99,
   "id": "1912f3d8-885f-4503-b7ce-8e1063bf3ef1",
   "metadata": {},
   "outputs": [],
   "source": [
    "def show_meter(tokens):\n",
    "    return [char_dict[i]['meter'] for i in tokens]"
   ]
  },
  {
   "cell_type": "code",
   "execution_count": 101,
   "id": "1023e812-8367-4756-b3b9-c47cde08084b",
   "metadata": {},
   "outputs": [],
   "source": [
    "def meter_score(tokens):\n",
    "    meter = [char_dict[i]['meter'] for i in tokens]\n",
    "    scores = []\n",
    "    for n in meters:\n",
    "        scores.append(sum([int(meter[num]==n[num]) for num in n]))\n",
    "    return max(scores)/28"
   ]
  },
  {
   "cell_type": "code",
   "execution_count": 113,
   "id": "01577822-6a4f-496d-9457-721ead852c9d",
   "metadata": {},
   "outputs": [],
   "source": [
    "poetry['tokens'] = poetry['text'].apply(text_tokenizer)"
   ]
  },
  {
   "cell_type": "code",
   "execution_count": 114,
   "id": "1af76732-37de-4f55-8ec4-e8961bc0fa24",
   "metadata": {},
   "outputs": [],
   "source": [
    "poetry['meter_score'] = poetry['tokens'].apply(meter_score)"
   ]
  },
  {
   "cell_type": "code",
   "execution_count": 116,
   "id": "854c63fc-5cc3-4e30-bcd2-7ff82d5883cd",
   "metadata": {},
   "outputs": [],
   "source": [
    "poetry['rhyme'] = poetry['tokens'].apply(rhyme_checker)"
   ]
  },
  {
   "cell_type": "code",
   "execution_count": 120,
   "id": "c03dbbc4-5ff7-4177-9f30-3c47c42bebd4",
   "metadata": {},
   "outputs": [],
   "source": [
    "poetry['target'] = 1"
   ]
  },
  {
   "cell_type": "code",
   "execution_count": 119,
   "id": "914fd80d-7480-4125-985f-3c4ab7c86593",
   "metadata": {},
   "outputs": [],
   "source": [
    "import tensorflow as tf\n",
    "from tensorflow.keras.models import Sequential\n",
    "from tensorflow.keras.layers import Dense, Reshape, Flatten, LSTM, GRU\n",
    "from sklearn.model_selection import train_test_split"
   ]
  },
  {
   "cell_type": "code",
   "execution_count": 145,
   "id": "7b15e184-b7eb-40b3-bbc4-997e199c3062",
   "metadata": {},
   "outputs": [],
   "source": [
    "X = poetry.drop(columns='text')\n",
    "X.tokens = X.tokens.apply(np.array)\n",
    "X = np.array(X)\n",
    "y = np.array(poetry.target)"
   ]
  },
  {
   "cell_type": "code",
   "execution_count": 148,
   "id": "f8934271-9a74-4095-84e8-442e1027be3a",
   "metadata": {},
   "outputs": [
    {
     "data": {
      "text/plain": [
       "array([[array([3497, 3485, 4137, 7002, 4278, 1538, 1605, 5528, 1129,  627, 1504,\n",
       "               2590, 4856, 5394, 2710,  140, 5288, 2638, 1693, 6303, 6395, 3204,\n",
       "               5994, 4433, 3336, 3722, 3133,  231])                             ,\n",
       "        1.0, 1, 1],\n",
       "       [array([2064, 2534, 1323, 1208,  999, 4802, 1392, 6911, 5504,   74, 4412,\n",
       "               1830, 1165, 4197, 7232, 4848, 7198,  191, 4042, 2555, 2015, 3713,\n",
       "               1180, 1323, 3222,   74, 7383,  147])                             ,\n",
       "        1.0, 1, 1],\n",
       "       [array([ 514, 2654, 3752, 4841,  211, 5096, 5066, 7204, 4149, 7779, 4126,\n",
       "               5304, 4197,  714, 7335, 5297, 1756, 5024, 1396, 3629,  120, 6711,\n",
       "                191,  147, 3995,   67, 1161,   89])                             ,\n",
       "        1.0, 1, 1],\n",
       "       ...,\n",
       "       [array([6037,  719, 6556, 5294, 5528, 6875, 7478,  111, 4269, 6774,  266,\n",
       "               2512, 2070, 4053, 7178, 1487, 7816, 7751, 5195, 6080, 6150, 3716,\n",
       "               1076, 1391,  147, 2454, 1398, 2627])                             ,\n",
       "        0.5, 1, 1],\n",
       "       [array([2660, 5210,   67, 7876, 2778, 5381, 3092, 1394, 1216, 1323, 5049,\n",
       "                308, 7599, 7618, 4805, 4193,  696,  191, 7145, 5294, 1201, 6836,\n",
       "               4212, 5482, 6102, 3067, 1620, 1487])                             ,\n",
       "        1.0, 1, 1],\n",
       "       [array([1658, 5129, 1332, 1201, 3844, 4693, 5294, 1183, 2621, 1953, 3336,\n",
       "               1801, 7715,  231, 3027, 4125, 3058, 1003, 6929, 3067, 1918,  650,\n",
       "               5053, 7200, 7407,  672,   74,  972])                             ,\n",
       "        1.0, 1, 1]], dtype=object)"
      ]
     },
     "execution_count": 148,
     "metadata": {},
     "output_type": "execute_result"
    }
   ],
   "source": [
    "X"
   ]
  },
  {
   "cell_type": "code",
   "execution_count": 118,
   "id": "e7105923-9c3f-485f-8039-a510f86020ae",
   "metadata": {},
   "outputs": [],
   "source": [
    "discriminator = Sequential()\n",
    "discriminator. add"
   ]
  },
  {
   "cell_type": "code",
   "execution_count": 112,
   "id": "b827f36b-1005-49b1-be6e-6ab40be05d8c",
   "metadata": {},
   "outputs": [
    {
     "ename": "TypeError",
     "evalue": "The added layer must be an instance of class Layer. Received: layer=<function meter_score at 0x0000021D6DB5DB80> of type <class 'function'>.",
     "output_type": "error",
     "traceback": [
      "\u001b[1;31m---------------------------------------------------------------------------\u001b[0m",
      "\u001b[1;31mTypeError\u001b[0m                                 Traceback (most recent call last)",
      "\u001b[1;32m~\\AppData\\Local\\Temp/ipykernel_12720/2616930871.py\u001b[0m in \u001b[0;36m<module>\u001b[1;34m\u001b[0m\n\u001b[1;32m----> 1\u001b[1;33m \u001b[0mmodel\u001b[0m\u001b[1;33m.\u001b[0m\u001b[0madd\u001b[0m\u001b[1;33m(\u001b[0m\u001b[0mmeter_score\u001b[0m\u001b[1;33m)\u001b[0m\u001b[1;33m\u001b[0m\u001b[1;33m\u001b[0m\u001b[0m\n\u001b[0m",
      "\u001b[1;32m~\\anaconda3\\lib\\site-packages\\tensorflow\\python\\training\\tracking\\base.py\u001b[0m in \u001b[0;36m_method_wrapper\u001b[1;34m(self, *args, **kwargs)\u001b[0m\n\u001b[0;32m    627\u001b[0m     \u001b[0mself\u001b[0m\u001b[1;33m.\u001b[0m\u001b[0m_self_setattr_tracking\u001b[0m \u001b[1;33m=\u001b[0m \u001b[1;32mFalse\u001b[0m  \u001b[1;31m# pylint: disable=protected-access\u001b[0m\u001b[1;33m\u001b[0m\u001b[1;33m\u001b[0m\u001b[0m\n\u001b[0;32m    628\u001b[0m     \u001b[1;32mtry\u001b[0m\u001b[1;33m:\u001b[0m\u001b[1;33m\u001b[0m\u001b[1;33m\u001b[0m\u001b[0m\n\u001b[1;32m--> 629\u001b[1;33m       \u001b[0mresult\u001b[0m \u001b[1;33m=\u001b[0m \u001b[0mmethod\u001b[0m\u001b[1;33m(\u001b[0m\u001b[0mself\u001b[0m\u001b[1;33m,\u001b[0m \u001b[1;33m*\u001b[0m\u001b[0margs\u001b[0m\u001b[1;33m,\u001b[0m \u001b[1;33m**\u001b[0m\u001b[0mkwargs\u001b[0m\u001b[1;33m)\u001b[0m\u001b[1;33m\u001b[0m\u001b[1;33m\u001b[0m\u001b[0m\n\u001b[0m\u001b[0;32m    630\u001b[0m     \u001b[1;32mfinally\u001b[0m\u001b[1;33m:\u001b[0m\u001b[1;33m\u001b[0m\u001b[1;33m\u001b[0m\u001b[0m\n\u001b[0;32m    631\u001b[0m       \u001b[0mself\u001b[0m\u001b[1;33m.\u001b[0m\u001b[0m_self_setattr_tracking\u001b[0m \u001b[1;33m=\u001b[0m \u001b[0mprevious_value\u001b[0m  \u001b[1;31m# pylint: disable=protected-access\u001b[0m\u001b[1;33m\u001b[0m\u001b[1;33m\u001b[0m\u001b[0m\n",
      "\u001b[1;32m~\\anaconda3\\lib\\site-packages\\keras\\utils\\traceback_utils.py\u001b[0m in \u001b[0;36merror_handler\u001b[1;34m(*args, **kwargs)\u001b[0m\n\u001b[0;32m     65\u001b[0m     \u001b[1;32mexcept\u001b[0m \u001b[0mException\u001b[0m \u001b[1;32mas\u001b[0m \u001b[0me\u001b[0m\u001b[1;33m:\u001b[0m  \u001b[1;31m# pylint: disable=broad-except\u001b[0m\u001b[1;33m\u001b[0m\u001b[1;33m\u001b[0m\u001b[0m\n\u001b[0;32m     66\u001b[0m       \u001b[0mfiltered_tb\u001b[0m \u001b[1;33m=\u001b[0m \u001b[0m_process_traceback_frames\u001b[0m\u001b[1;33m(\u001b[0m\u001b[0me\u001b[0m\u001b[1;33m.\u001b[0m\u001b[0m__traceback__\u001b[0m\u001b[1;33m)\u001b[0m\u001b[1;33m\u001b[0m\u001b[1;33m\u001b[0m\u001b[0m\n\u001b[1;32m---> 67\u001b[1;33m       \u001b[1;32mraise\u001b[0m \u001b[0me\u001b[0m\u001b[1;33m.\u001b[0m\u001b[0mwith_traceback\u001b[0m\u001b[1;33m(\u001b[0m\u001b[0mfiltered_tb\u001b[0m\u001b[1;33m)\u001b[0m \u001b[1;32mfrom\u001b[0m \u001b[1;32mNone\u001b[0m\u001b[1;33m\u001b[0m\u001b[1;33m\u001b[0m\u001b[0m\n\u001b[0m\u001b[0;32m     68\u001b[0m     \u001b[1;32mfinally\u001b[0m\u001b[1;33m:\u001b[0m\u001b[1;33m\u001b[0m\u001b[1;33m\u001b[0m\u001b[0m\n\u001b[0;32m     69\u001b[0m       \u001b[1;32mdel\u001b[0m \u001b[0mfiltered_tb\u001b[0m\u001b[1;33m\u001b[0m\u001b[1;33m\u001b[0m\u001b[0m\n",
      "\u001b[1;32m~\\anaconda3\\lib\\site-packages\\keras\\engine\\sequential.py\u001b[0m in \u001b[0;36madd\u001b[1;34m(self, layer)\u001b[0m\n\u001b[0;32m    176\u001b[0m         \u001b[0mlayer\u001b[0m \u001b[1;33m=\u001b[0m \u001b[0mfunctional\u001b[0m\u001b[1;33m.\u001b[0m\u001b[0mModuleWrapper\u001b[0m\u001b[1;33m(\u001b[0m\u001b[0mlayer\u001b[0m\u001b[1;33m)\u001b[0m\u001b[1;33m\u001b[0m\u001b[1;33m\u001b[0m\u001b[0m\n\u001b[0;32m    177\u001b[0m     \u001b[1;32melse\u001b[0m\u001b[1;33m:\u001b[0m\u001b[1;33m\u001b[0m\u001b[1;33m\u001b[0m\u001b[0m\n\u001b[1;32m--> 178\u001b[1;33m       raise TypeError('The added layer must be an instance of class Layer. '\n\u001b[0m\u001b[0;32m    179\u001b[0m                       f'Received: layer={layer} of type {type(layer)}.')\n\u001b[0;32m    180\u001b[0m \u001b[1;33m\u001b[0m\u001b[0m\n",
      "\u001b[1;31mTypeError\u001b[0m: The added layer must be an instance of class Layer. Received: layer=<function meter_score at 0x0000021D6DB5DB80> of type <class 'function'>."
     ]
    }
   ],
   "source": [
    "model.add(meter_score)"
   ]
  },
  {
   "cell_type": "code",
   "execution_count": null,
   "id": "fe1cba64-a059-454a-98d7-588a50f8b878",
   "metadata": {},
   "outputs": [],
   "source": []
  }
 ],
 "metadata": {
  "kernelspec": {
   "display_name": "Python 3 (ipykernel)",
   "language": "python",
   "name": "python3"
  },
  "language_info": {
   "codemirror_mode": {
    "name": "ipython",
    "version": 3
   },
   "file_extension": ".py",
   "mimetype": "text/x-python",
   "name": "python",
   "nbconvert_exporter": "python",
   "pygments_lexer": "ipython3",
   "version": "3.9.7"
  }
 },
 "nbformat": 4,
 "nbformat_minor": 5
}
