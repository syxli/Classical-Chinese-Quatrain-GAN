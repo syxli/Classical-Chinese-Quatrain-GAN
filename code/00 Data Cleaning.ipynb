{
 "cells": [
  {
   "cell_type": "markdown",
   "id": "c97dbec7-ad39-4b99-84b4-3b8d07176393",
   "metadata": {
    "tags": []
   },
   "source": [
    "# Data Cleaning"
   ]
  },
  {
   "cell_type": "markdown",
   "id": "17bfc0b2-3f2f-40d3-b710-8c75a6e066b0",
   "metadata": {},
   "source": [
    "## Formatting\n",
    "Classical Chinese *juéjù* 絕句 or quatrains have either five or seven syllable lines for a total of 20 or 28 characters per line. The json text corpus includes other types of poems, with commas and periods in their formatting. \n",
    "\n",
    "## Selecting the Data\n",
    "To select only quatrains, the number of lines are evaluated and quatrains are then stored in their respective pentasyllabic and heptasyllabic dataframes.\n"
   ]
  },
  {
   "cell_type": "markdown",
   "id": "ee07953a-1100-4dc8-b642-e3de90d402e7",
   "metadata": {},
   "source": [
    "### Imports"
   ]
  },
  {
   "cell_type": "code",
   "execution_count": 1,
   "id": "02507ddc-c32c-4918-8b1a-8e12bd292290",
   "metadata": {},
   "outputs": [],
   "source": [
    "import numpy as np\n",
    "import pandas as pd\n",
    "import os\n",
    "import re"
   ]
  },
  {
   "cell_type": "code",
   "execution_count": 2,
   "id": "67bc6b81-569d-46f1-8373-59a657ebe634",
   "metadata": {},
   "outputs": [],
   "source": [
    "# Create a files variable that contains all of our data files.\n",
    "files = os.listdir('../json')"
   ]
  },
  {
   "cell_type": "code",
   "execution_count": 3,
   "id": "5a39fc1a-8409-4f10-adc0-0265e329eafe",
   "metadata": {},
   "outputs": [],
   "source": [
    "df = pd.read_json('../json/poet.tang.0.json')"
   ]
  },
  {
   "cell_type": "code",
   "execution_count": 4,
   "id": "b8d37da5-014c-4576-88eb-bf21274f5851",
   "metadata": {},
   "outputs": [
    {
     "data": {
      "text/html": [
       "<div>\n",
       "<style scoped>\n",
       "    .dataframe tbody tr th:only-of-type {\n",
       "        vertical-align: middle;\n",
       "    }\n",
       "\n",
       "    .dataframe tbody tr th {\n",
       "        vertical-align: top;\n",
       "    }\n",
       "\n",
       "    .dataframe thead th {\n",
       "        text-align: right;\n",
       "    }\n",
       "</style>\n",
       "<table border=\"1\" class=\"dataframe\">\n",
       "  <thead>\n",
       "    <tr style=\"text-align: right;\">\n",
       "      <th></th>\n",
       "      <th>author</th>\n",
       "      <th>paragraphs</th>\n",
       "      <th>title</th>\n",
       "      <th>id</th>\n",
       "      <th>tags</th>\n",
       "    </tr>\n",
       "  </thead>\n",
       "  <tbody>\n",
       "    <tr>\n",
       "      <th>0</th>\n",
       "      <td>太宗皇帝</td>\n",
       "      <td>[秦川雄帝宅，函谷壯皇居。, 綺殿千尋起，離宮百雉餘。, 連甍遙接漢，飛觀迥凌虛。, 雲日隱...</td>\n",
       "      <td>帝京篇十首 一</td>\n",
       "      <td>3ad6d468-7ff1-4a7b-8b24-a27d70d00ed4</td>\n",
       "      <td>NaN</td>\n",
       "    </tr>\n",
       "    <tr>\n",
       "      <th>1</th>\n",
       "      <td>太宗皇帝</td>\n",
       "      <td>[巖廊罷機務，崇文聊駐輦。, 玉匣啓龍圖，金繩披鳳篆。, 韋編斷仍續，縹帙舒還卷。, 對此乃...</td>\n",
       "      <td>帝京篇十首 二</td>\n",
       "      <td>13e72581-968b-457f-b381-a3b7d95b8b7c</td>\n",
       "      <td>NaN</td>\n",
       "    </tr>\n",
       "    <tr>\n",
       "      <th>2</th>\n",
       "      <td>太宗皇帝</td>\n",
       "      <td>[移步出詞林，停輿欣武宴。, 琱弓寫明月，駿馬疑流電。, 驚雁落虛弦，啼猿悲急箭。, 閱賞誠...</td>\n",
       "      <td>帝京篇十首 三</td>\n",
       "      <td>a7ff247d-a11c-4ca9-a22f-ca420b8c537c</td>\n",
       "      <td>NaN</td>\n",
       "    </tr>\n",
       "    <tr>\n",
       "      <th>3</th>\n",
       "      <td>太宗皇帝</td>\n",
       "      <td>[鳴笳臨樂館，眺聽歡芳節。, 急管韻朱絃，清歌凝白雪。, 彩鳳肅來儀，玄鶴紛成列。, 去茲鄭...</td>\n",
       "      <td>帝京篇十首 四</td>\n",
       "      <td>fa374b2b-c196-4362-b4ad-8931fc9a8860</td>\n",
       "      <td>NaN</td>\n",
       "    </tr>\n",
       "    <tr>\n",
       "      <th>4</th>\n",
       "      <td>太宗皇帝</td>\n",
       "      <td>[芳辰追逸趣，禁苑信多奇。, 橋形通漢上，峰勢接雲危。, 煙霞交隱映，花鳥自參差。, 何如肆...</td>\n",
       "      <td>帝京篇十首 五</td>\n",
       "      <td>86952cb3-b622-4398-a56a-01dd39f6c6ec</td>\n",
       "      <td>NaN</td>\n",
       "    </tr>\n",
       "  </tbody>\n",
       "</table>\n",
       "</div>"
      ],
      "text/plain": [
       "  author                                         paragraphs    title  \\\n",
       "0   太宗皇帝  [秦川雄帝宅，函谷壯皇居。, 綺殿千尋起，離宮百雉餘。, 連甍遙接漢，飛觀迥凌虛。, 雲日隱...  帝京篇十首 一   \n",
       "1   太宗皇帝  [巖廊罷機務，崇文聊駐輦。, 玉匣啓龍圖，金繩披鳳篆。, 韋編斷仍續，縹帙舒還卷。, 對此乃...  帝京篇十首 二   \n",
       "2   太宗皇帝  [移步出詞林，停輿欣武宴。, 琱弓寫明月，駿馬疑流電。, 驚雁落虛弦，啼猿悲急箭。, 閱賞誠...  帝京篇十首 三   \n",
       "3   太宗皇帝  [鳴笳臨樂館，眺聽歡芳節。, 急管韻朱絃，清歌凝白雪。, 彩鳳肅來儀，玄鶴紛成列。, 去茲鄭...  帝京篇十首 四   \n",
       "4   太宗皇帝  [芳辰追逸趣，禁苑信多奇。, 橋形通漢上，峰勢接雲危。, 煙霞交隱映，花鳥自參差。, 何如肆...  帝京篇十首 五   \n",
       "\n",
       "                                     id tags  \n",
       "0  3ad6d468-7ff1-4a7b-8b24-a27d70d00ed4  NaN  \n",
       "1  13e72581-968b-457f-b381-a3b7d95b8b7c  NaN  \n",
       "2  a7ff247d-a11c-4ca9-a22f-ca420b8c537c  NaN  \n",
       "3  fa374b2b-c196-4362-b4ad-8931fc9a8860  NaN  \n",
       "4  86952cb3-b622-4398-a56a-01dd39f6c6ec  NaN  "
      ]
     },
     "execution_count": 4,
     "metadata": {},
     "output_type": "execute_result"
    }
   ],
   "source": [
    "df.head()"
   ]
  },
  {
   "cell_type": "code",
   "execution_count": 5,
   "id": "46fd95e7-ad8d-4ec9-b235-5efc64de588a",
   "metadata": {},
   "outputs": [],
   "source": [
    "# Function that checks if a poem_raw is a quatrain\n",
    "def quatrain_checker(poem):\n",
    "    if len(poem)!=2:\n",
    "        return False\n",
    "    poem_raw = poem.copy()\n",
    "    poem_raw[0] = re.sub('\\ |\\?|\\？|—|\\《|\\》|\\□|\\●|\\/|\\{|\\}|\\·|\\、|\\「|\\」|\\|', '' , poem_raw[0])\n",
    "    poem_raw[1] = re.sub('\\ |\\?|\\？|—|\\《|\\》|\\□|\\●|\\/|\\{|\\}|\\·|\\、|\\「|\\」|\\|', '' , poem_raw[1])\n",
    "    poem_raw[0] = poem_raw[0].split('，')\n",
    "    poem_raw[1] = poem_raw[1].split('，')\n",
    "    \n",
    "    if len(poem_raw[0])!=2:\n",
    "        return False\n",
    "    if len(poem_raw[1])!=2:\n",
    "        return False\n",
    "    try:\n",
    "        line_lengths = [len(poem_raw[0][0]), len(poem_raw[0][1]), len(poem_raw[1][0]), len(poem_raw[1][1])]\n",
    "    except:\n",
    "        return False\n",
    "    \n",
    "    if line_lengths == [5, 6, 5, 6]:\n",
    "        return True\n",
    "    elif line_lengths == [7, 8, 7, 8]:\n",
    "        return True\n",
    "    else:\n",
    "        return False"
   ]
  },
  {
   "cell_type": "code",
   "execution_count": 6,
   "id": "019d7982-d0e7-4ebe-bdea-82debe18ff95",
   "metadata": {},
   "outputs": [],
   "source": [
    "# Function that takes a .json file and returns DataFrame with only quatrains labeled by amount of syllables per line\n",
    "def quatrain_extractor(file):\n",
    "    poetry = pd.read_json(f'../json/{file}')\n",
    "    cleaned_poetry = []\n",
    "    for i in range(0, len(poetry.paragraphs)):\n",
    "        poem = poetry.paragraphs[i]\n",
    "        if quatrain_checker(poem) == True:            \n",
    "            poem = re.sub('\\，|\\。', '', ''.join(poem))\n",
    "            if len(poem)==20:\n",
    "                cleaned_poetry.append({'text': poem, 'syllables': 5})\n",
    "            elif len(poem)==28:\n",
    "                cleaned_poetry.append({'text': poem, 'syllables': 7})\n",
    "    return pd.DataFrame(cleaned_poetry)"
   ]
  },
  {
   "cell_type": "code",
   "execution_count": 7,
   "id": "addd6740-e90f-4f53-9351-855e5a17cf21",
   "metadata": {
    "scrolled": true,
    "tags": []
   },
   "outputs": [],
   "source": [
    "# Creating DataFrame with all quatrains\n",
    "poetry = pd.concat([quatrain_extractor(n) for n in files], ignore_index=True)"
   ]
  },
  {
   "cell_type": "code",
   "execution_count": 8,
   "id": "daaa3395-370e-474b-8eb2-ab396a39ee72",
   "metadata": {},
   "outputs": [
    {
     "data": {
      "text/plain": [
       "7    90576\n",
       "5    17096\n",
       "Name: syllables, dtype: int64"
      ]
     },
     "execution_count": 8,
     "metadata": {},
     "output_type": "execute_result"
    }
   ],
   "source": [
    "poetry.syllables.value_counts()"
   ]
  },
  {
   "cell_type": "code",
   "execution_count": 9,
   "id": "d677e974-3b36-4bc4-8f3d-819e0f8de2be",
   "metadata": {},
   "outputs": [
    {
     "data": {
      "text/plain": [
       "107672"
      ]
     },
     "execution_count": 9,
     "metadata": {},
     "output_type": "execute_result"
    }
   ],
   "source": [
    "len(poetry)"
   ]
  },
  {
   "cell_type": "code",
   "execution_count": 10,
   "id": "ebfaa01a-21b0-4ccf-9171-213e5d0520aa",
   "metadata": {},
   "outputs": [
    {
     "data": {
      "text/plain": [
       "103363"
      ]
     },
     "execution_count": 10,
     "metadata": {},
     "output_type": "execute_result"
    }
   ],
   "source": [
    "len(poetry.text.unique())"
   ]
  },
  {
   "cell_type": "code",
   "execution_count": 11,
   "id": "255ecf33-e003-47b4-a12a-48417763e0aa",
   "metadata": {},
   "outputs": [],
   "source": [
    "# Removing duplicates\n",
    "poetry.drop_duplicates(subset='text', inplace=True)"
   ]
  },
  {
   "cell_type": "code",
   "execution_count": 12,
   "id": "50094e01-f401-4a26-98fd-6e1a10b2ec63",
   "metadata": {},
   "outputs": [
    {
     "data": {
      "text/plain": [
       "103363"
      ]
     },
     "execution_count": 12,
     "metadata": {},
     "output_type": "execute_result"
    }
   ],
   "source": [
    "# Confirming duplicate deletion\n",
    "len(poetry)"
   ]
  },
  {
   "cell_type": "code",
   "execution_count": 13,
   "id": "0bc6ea1e-fb07-4533-b190-7f873421b6cd",
   "metadata": {},
   "outputs": [
    {
     "data": {
      "text/plain": [
       "7    86578\n",
       "5    16785\n",
       "Name: syllables, dtype: int64"
      ]
     },
     "execution_count": 13,
     "metadata": {},
     "output_type": "execute_result"
    }
   ],
   "source": [
    "poetry.syllables.value_counts()"
   ]
  },
  {
   "cell_type": "code",
   "execution_count": 14,
   "id": "a1a1599b-9bde-479d-acbe-5bea80ec7cb4",
   "metadata": {},
   "outputs": [],
   "source": [
    "# Resetting index\n",
    "poetry.reset_index(inplace=True, drop=True)"
   ]
  },
  {
   "cell_type": "code",
   "execution_count": 15,
   "id": "ea467de8-6ae0-4799-9696-02049b087772",
   "metadata": {},
   "outputs": [],
   "source": [
    "# Exporting to CSV\n",
    "poetry.to_csv('../data/quatrains.csv')"
   ]
  }
 ],
 "metadata": {
  "kernelspec": {
   "display_name": "Python [conda env:root] *",
   "language": "python",
   "name": "conda-root-py"
  },
  "language_info": {
   "codemirror_mode": {
    "name": "ipython",
    "version": 3
   },
   "file_extension": ".py",
   "mimetype": "text/x-python",
   "name": "python",
   "nbconvert_exporter": "python",
   "pygments_lexer": "ipython3",
   "version": "3.9.7"
  }
 },
 "nbformat": 4,
 "nbformat_minor": 5
}
