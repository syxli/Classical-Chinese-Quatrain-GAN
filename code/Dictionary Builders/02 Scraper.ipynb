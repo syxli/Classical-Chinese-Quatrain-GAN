{
 "cells": [
  {
   "cell_type": "code",
   "execution_count": 1,
   "id": "78ad3300-4409-487f-b66f-e7e42d2dda2e",
   "metadata": {},
   "outputs": [],
   "source": [
    "import numpy as np\n",
    "import pandas as pd\n",
    "from bs4 import BeautifulSoup\n",
    "import requests\n",
    "import hanja\n",
    "import pinyin\n",
    "import py"
   ]
  },
  {
   "cell_type": "code",
   "execution_count": 2,
   "id": "3f413641-1d09-415f-8a3a-c111262137bb",
   "metadata": {},
   "outputs": [],
   "source": [
    "def char_info(char):\n",
    "    info = {'char': char}\n",
    "    response = requests.get(f'https://ytenx.org/zim?dzih={char}&dzyen=1&jtkb=1&jtkd=1&jtdt=1&jtgt=1')\n",
    "    try: \n",
    "        soup = BeautifulSoup(response.text, 'lxml')\n",
    "        entry = list(soup.find_all('p')[0])\n",
    "        if entry[0] == '\\n':\n",
    "            return pd.DataFrame(info, index=[0])\n",
    "        info['tone'] = entry[0][-1]\n",
    "        info['rime'] = entry[1].text\n",
    "        if info['tone'] == '入':\n",
    "            info['ipa'] = entry[4].text.split()[1][0:-1]\n",
    "            info['tone_class'] = 'E'\n",
    "        elif info['tone'] == '平':\n",
    "            info['ipa'] = entry[4].text.split()[1][0:-1]\n",
    "            info['tone_class'] = 'L'        \n",
    "        else:\n",
    "            info['ipa'] = entry[4].text.split()[1][0:-2]\n",
    "            info['tone_class'] = entry[4].text.split()[1][-2]\n",
    "        return pd.DataFrame(info, index=[0])\n",
    "    except:\n",
    "        return pd.DataFrame()"
   ]
  },
  {
   "cell_type": "code",
   "execution_count": 3,
   "id": "c9b5b279-cdf8-49cd-89f2-c909564fbf28",
   "metadata": {},
   "outputs": [
    {
     "data": {
      "text/html": [
       "<div>\n",
       "<style scoped>\n",
       "    .dataframe tbody tr th:only-of-type {\n",
       "        vertical-align: middle;\n",
       "    }\n",
       "\n",
       "    .dataframe tbody tr th {\n",
       "        vertical-align: top;\n",
       "    }\n",
       "\n",
       "    .dataframe thead th {\n",
       "        text-align: right;\n",
       "    }\n",
       "</style>\n",
       "<table border=\"1\" class=\"dataframe\">\n",
       "  <thead>\n",
       "    <tr style=\"text-align: right;\">\n",
       "      <th></th>\n",
       "      <th>char</th>\n",
       "      <th>tone</th>\n",
       "      <th>rime</th>\n",
       "      <th>ipa</th>\n",
       "      <th>tone_class</th>\n",
       "    </tr>\n",
       "  </thead>\n",
       "  <tbody>\n",
       "    <tr>\n",
       "      <th>0</th>\n",
       "      <td>明</td>\n",
       "      <td>平</td>\n",
       "      <td>庚</td>\n",
       "      <td>mjaeng</td>\n",
       "      <td>L</td>\n",
       "    </tr>\n",
       "  </tbody>\n",
       "</table>\n",
       "</div>"
      ],
      "text/plain": [
       "  char tone rime     ipa tone_class\n",
       "0    明    平    庚  mjaeng          L"
      ]
     },
     "execution_count": 3,
     "metadata": {},
     "output_type": "execute_result"
    }
   ],
   "source": [
    "char_info('明')"
   ]
  },
  {
   "cell_type": "code",
   "execution_count": 4,
   "id": "e341da5f-169f-4da1-b5d2-c40cd8e62ff0",
   "metadata": {},
   "outputs": [
    {
     "data": {
      "text/html": [
       "<div>\n",
       "<style scoped>\n",
       "    .dataframe tbody tr th:only-of-type {\n",
       "        vertical-align: middle;\n",
       "    }\n",
       "\n",
       "    .dataframe tbody tr th {\n",
       "        vertical-align: top;\n",
       "    }\n",
       "\n",
       "    .dataframe thead th {\n",
       "        text-align: right;\n",
       "    }\n",
       "</style>\n",
       "<table border=\"1\" class=\"dataframe\">\n",
       "  <thead>\n",
       "    <tr style=\"text-align: right;\">\n",
       "      <th></th>\n",
       "      <th>char</th>\n",
       "      <th>tone</th>\n",
       "      <th>rime</th>\n",
       "      <th>ipa</th>\n",
       "      <th>tone_class</th>\n",
       "    </tr>\n",
       "  </thead>\n",
       "  <tbody>\n",
       "    <tr>\n",
       "      <th>0</th>\n",
       "      <td>起</td>\n",
       "      <td>上</td>\n",
       "      <td>止</td>\n",
       "      <td>khi</td>\n",
       "      <td>X</td>\n",
       "    </tr>\n",
       "  </tbody>\n",
       "</table>\n",
       "</div>"
      ],
      "text/plain": [
       "  char tone rime  ipa tone_class\n",
       "0    起    上    止  khi          X"
      ]
     },
     "execution_count": 4,
     "metadata": {},
     "output_type": "execute_result"
    }
   ],
   "source": [
    "char_info('起')"
   ]
  },
  {
   "cell_type": "code",
   "execution_count": 5,
   "id": "e37a6cb0-23e0-494a-a2e4-bf9a9f26e66d",
   "metadata": {},
   "outputs": [
    {
     "data": {
      "text/html": [
       "<div>\n",
       "<style scoped>\n",
       "    .dataframe tbody tr th:only-of-type {\n",
       "        vertical-align: middle;\n",
       "    }\n",
       "\n",
       "    .dataframe tbody tr th {\n",
       "        vertical-align: top;\n",
       "    }\n",
       "\n",
       "    .dataframe thead th {\n",
       "        text-align: right;\n",
       "    }\n",
       "</style>\n",
       "<table border=\"1\" class=\"dataframe\">\n",
       "  <thead>\n",
       "    <tr style=\"text-align: right;\">\n",
       "      <th></th>\n",
       "      <th>char</th>\n",
       "      <th>tone</th>\n",
       "      <th>rime</th>\n",
       "      <th>ipa</th>\n",
       "      <th>tone_class</th>\n",
       "    </tr>\n",
       "  </thead>\n",
       "  <tbody>\n",
       "    <tr>\n",
       "      <th>0</th>\n",
       "      <td>會</td>\n",
       "      <td>去</td>\n",
       "      <td>泰</td>\n",
       "      <td>hwaj</td>\n",
       "      <td>H</td>\n",
       "    </tr>\n",
       "  </tbody>\n",
       "</table>\n",
       "</div>"
      ],
      "text/plain": [
       "  char tone rime   ipa tone_class\n",
       "0    會    去    泰  hwaj          H"
      ]
     },
     "execution_count": 5,
     "metadata": {},
     "output_type": "execute_result"
    }
   ],
   "source": [
    "char_info('會')"
   ]
  },
  {
   "cell_type": "code",
   "execution_count": 6,
   "id": "055aaa8e-3451-4fdb-811a-8a0979e059b7",
   "metadata": {},
   "outputs": [
    {
     "data": {
      "text/html": [
       "<div>\n",
       "<style scoped>\n",
       "    .dataframe tbody tr th:only-of-type {\n",
       "        vertical-align: middle;\n",
       "    }\n",
       "\n",
       "    .dataframe tbody tr th {\n",
       "        vertical-align: top;\n",
       "    }\n",
       "\n",
       "    .dataframe thead th {\n",
       "        text-align: right;\n",
       "    }\n",
       "</style>\n",
       "<table border=\"1\" class=\"dataframe\">\n",
       "  <thead>\n",
       "    <tr style=\"text-align: right;\">\n",
       "      <th></th>\n",
       "      <th>char</th>\n",
       "      <th>tone</th>\n",
       "      <th>rime</th>\n",
       "      <th>ipa</th>\n",
       "      <th>tone_class</th>\n",
       "    </tr>\n",
       "  </thead>\n",
       "  <tbody>\n",
       "    <tr>\n",
       "      <th>0</th>\n",
       "      <td>烈</td>\n",
       "      <td>入</td>\n",
       "      <td>薛</td>\n",
       "      <td>ljet</td>\n",
       "      <td>E</td>\n",
       "    </tr>\n",
       "  </tbody>\n",
       "</table>\n",
       "</div>"
      ],
      "text/plain": [
       "  char tone rime   ipa tone_class\n",
       "0    烈    入    薛  ljet          E"
      ]
     },
     "execution_count": 6,
     "metadata": {},
     "output_type": "execute_result"
    }
   ],
   "source": [
    "char_info('烈')"
   ]
  },
  {
   "cell_type": "code",
   "execution_count": 9,
   "id": "e2156870-7597-4159-8608-9d0c014c1fe7",
   "metadata": {},
   "outputs": [],
   "source": [
    "df = pd.read_csv('../../data/char_list.csv', index_col=0)"
   ]
  },
  {
   "cell_type": "code",
   "execution_count": 10,
   "id": "e99f5b90-d625-4fbd-8054-67d32e29e7b4",
   "metadata": {},
   "outputs": [
    {
     "data": {
      "text/html": [
       "<div>\n",
       "<style scoped>\n",
       "    .dataframe tbody tr th:only-of-type {\n",
       "        vertical-align: middle;\n",
       "    }\n",
       "\n",
       "    .dataframe tbody tr th {\n",
       "        vertical-align: top;\n",
       "    }\n",
       "\n",
       "    .dataframe thead th {\n",
       "        text-align: right;\n",
       "    }\n",
       "</style>\n",
       "<table border=\"1\" class=\"dataframe\">\n",
       "  <thead>\n",
       "    <tr style=\"text-align: right;\">\n",
       "      <th></th>\n",
       "      <th>char</th>\n",
       "    </tr>\n",
       "  </thead>\n",
       "  <tbody>\n",
       "    <tr>\n",
       "      <th>0</th>\n",
       "      <td>㑹</td>\n",
       "    </tr>\n",
       "    <tr>\n",
       "      <th>1</th>\n",
       "      <td>㒿</td>\n",
       "    </tr>\n",
       "    <tr>\n",
       "      <th>2</th>\n",
       "      <td>㕙</td>\n",
       "    </tr>\n",
       "    <tr>\n",
       "      <th>3</th>\n",
       "      <td>㕮</td>\n",
       "    </tr>\n",
       "    <tr>\n",
       "      <th>4</th>\n",
       "      <td>㖀</td>\n",
       "    </tr>\n",
       "    <tr>\n",
       "      <th>...</th>\n",
       "      <td>...</td>\n",
       "    </tr>\n",
       "    <tr>\n",
       "      <th>8563</th>\n",
       "      <td>𫇢</td>\n",
       "    </tr>\n",
       "    <tr>\n",
       "      <th>8564</th>\n",
       "      <td>𬋖</td>\n",
       "    </tr>\n",
       "    <tr>\n",
       "      <th>8565</th>\n",
       "      <td>𮪃</td>\n",
       "    </tr>\n",
       "    <tr>\n",
       "      <th>8566</th>\n",
       "      <td>𮫃</td>\n",
       "    </tr>\n",
       "    <tr>\n",
       "      <th>8567</th>\n",
       "      <td>𮭗</td>\n",
       "    </tr>\n",
       "  </tbody>\n",
       "</table>\n",
       "<p>8568 rows × 1 columns</p>\n",
       "</div>"
      ],
      "text/plain": [
       "     char\n",
       "0       㑹\n",
       "1       㒿\n",
       "2       㕙\n",
       "3       㕮\n",
       "4       㖀\n",
       "...   ...\n",
       "8563    𫇢\n",
       "8564    𬋖\n",
       "8565    𮪃\n",
       "8566    𮫃\n",
       "8567    𮭗\n",
       "\n",
       "[8568 rows x 1 columns]"
      ]
     },
     "execution_count": 10,
     "metadata": {},
     "output_type": "execute_result"
    }
   ],
   "source": [
    "df"
   ]
  },
  {
   "cell_type": "code",
   "execution_count": 11,
   "id": "989ace28-deb1-4acb-9158-61efaf7f9590",
   "metadata": {},
   "outputs": [
    {
     "name": "stdout",
     "output_type": "stream",
     "text": [
      "Wall time: 30min 9s\n"
     ]
    }
   ],
   "source": [
    "%%time\n",
    "dictionary = pd.concat([char_info(i) for i in df.char])"
   ]
  },
  {
   "cell_type": "code",
   "execution_count": 13,
   "id": "d6ddbb7c-af93-47fd-b0e3-b5c016fccc1b",
   "metadata": {},
   "outputs": [
    {
     "name": "stdout",
     "output_type": "stream",
     "text": [
      "<class 'pandas.core.frame.DataFrame'>\n",
      "Int64Index: 8443 entries, 0 to 0\n",
      "Data columns (total 5 columns):\n",
      " #   Column      Non-Null Count  Dtype \n",
      "---  ------      --------------  ----- \n",
      " 0   char        8443 non-null   object\n",
      " 1   tone        8010 non-null   object\n",
      " 2   rime        8010 non-null   object\n",
      " 3   ipa         8010 non-null   object\n",
      " 4   tone_class  8010 non-null   object\n",
      "dtypes: object(5)\n",
      "memory usage: 395.8+ KB\n"
     ]
    }
   ],
   "source": [
    "dictionary.info()"
   ]
  },
  {
   "cell_type": "code",
   "execution_count": 14,
   "id": "70aac07d-8737-4fc4-b861-e4626c791eb9",
   "metadata": {},
   "outputs": [],
   "source": [
    "dictionary.to_csv(f'../../data/dictionary.csv')"
   ]
  },
  {
   "cell_type": "code",
   "execution_count": null,
   "id": "2cad5ff1-0d7e-4acc-872c-8077183cbacf",
   "metadata": {},
   "outputs": [],
   "source": []
  }
 ],
 "metadata": {
  "kernelspec": {
   "display_name": "Python 3 (ipykernel)",
   "language": "python",
   "name": "python3"
  },
  "language_info": {
   "codemirror_mode": {
    "name": "ipython",
    "version": 3
   },
   "file_extension": ".py",
   "mimetype": "text/x-python",
   "name": "python",
   "nbconvert_exporter": "python",
   "pygments_lexer": "ipython3",
   "version": "3.9.7"
  }
 },
 "nbformat": 4,
 "nbformat_minor": 5
}
