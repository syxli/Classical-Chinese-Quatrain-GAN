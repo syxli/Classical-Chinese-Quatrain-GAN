{
 "cells": [
  {
   "cell_type": "code",
   "execution_count": 1,
   "id": "1faa571c-a7df-4927-aa20-e8c416accad8",
   "metadata": {},
   "outputs": [],
   "source": [
    "import numpy as np\n",
    "import pandas as pd\n",
    "from sklearn.feature_extraction.text import CountVectorizer"
   ]
  },
  {
   "cell_type": "code",
   "execution_count": 2,
   "id": "a2be82b7-01c6-4465-a256-65ce9669c022",
   "metadata": {},
   "outputs": [],
   "source": [
    "df = pd.read_csv('./../data/quatrains.csv')"
   ]
  },
  {
   "cell_type": "code",
   "execution_count": 3,
   "id": "c56c5750-f557-413e-a2b1-9b7437472d1f",
   "metadata": {},
   "outputs": [],
   "source": [
    "df['text_split'] = df.text.map(lambda x: ' '.join(x))"
   ]
  },
  {
   "cell_type": "code",
   "execution_count": 4,
   "id": "0ef97c9c-4822-4015-b085-3791e713beea",
   "metadata": {},
   "outputs": [],
   "source": [
    "X = df['text_split']"
   ]
  },
  {
   "cell_type": "code",
   "execution_count": 5,
   "id": "92d06466-80f1-472a-ab8b-4918d1ae3630",
   "metadata": {},
   "outputs": [],
   "source": [
    "cvec = CountVectorizer(tokenizer=lambda x: x.split())"
   ]
  },
  {
   "cell_type": "code",
   "execution_count": 6,
   "id": "c61ed2a6-61e9-4387-9a07-d440d5fc3792",
   "metadata": {},
   "outputs": [],
   "source": [
    "X = cvec.fit_transform(X)"
   ]
  },
  {
   "cell_type": "code",
   "execution_count": 7,
   "id": "b9b30e18-ad7e-4c71-90e2-72930439691b",
   "metadata": {},
   "outputs": [
    {
     "data": {
      "text/plain": [
       "8568"
      ]
     },
     "execution_count": 7,
     "metadata": {},
     "output_type": "execute_result"
    }
   ],
   "source": [
    "len(pd.DataFrame(cvec.get_feature_names())[0])"
   ]
  },
  {
   "cell_type": "code",
   "execution_count": 8,
   "id": "4c456ded-e0ce-45d2-83fc-630bb7805575",
   "metadata": {},
   "outputs": [],
   "source": [
    "char_list = pd.DataFrame(cvec.get_feature_names())"
   ]
  },
  {
   "cell_type": "code",
   "execution_count": 9,
   "id": "9b9a9026-fa39-4520-b6a1-fe4b3cd3b69d",
   "metadata": {},
   "outputs": [],
   "source": [
    "char_list.rename({0: 'char'}, axis='columns', inplace=True)"
   ]
  },
  {
   "cell_type": "code",
   "execution_count": 27,
   "id": "b8a810cf-b420-4162-863c-58cb663e57d0",
   "metadata": {},
   "outputs": [
    {
     "data": {
      "text/plain": [
       "8568"
      ]
     },
     "execution_count": 27,
     "metadata": {},
     "output_type": "execute_result"
    }
   ],
   "source": [
    "len(char_list)"
   ]
  },
  {
   "cell_type": "code",
   "execution_count": 31,
   "id": "21c73c73-3ecf-4be8-bb22-b5099d9858eb",
   "metadata": {},
   "outputs": [],
   "source": [
    "for i in range(0, 17):\n",
    "    if i != 16:\n",
    "        start = i*500\n",
    "        stop =(i+1)*500\n",
    "        char_list.iloc[start:stop,:].to_excel(f'../data/char_list_{i}.xlsx')\n",
    "    else:\n",
    "        start = i*500\n",
    "        stop = 8568\n",
    "        char_list.iloc[start:stop,:].to_excel(f'../data/char_list_{i}.xlsx')\n",
    "    "
   ]
  },
  {
   "cell_type": "code",
   "execution_count": 23,
   "id": "0d9c513d-71b1-4b19-804c-9585bc123d05",
   "metadata": {},
   "outputs": [
    {
     "data": {
      "text/plain": [
       "8500"
      ]
     },
     "execution_count": 23,
     "metadata": {},
     "output_type": "execute_result"
    }
   ],
   "source": [
    "17*500"
   ]
  },
  {
   "cell_type": "code",
   "execution_count": 22,
   "id": "b6671ede-5ee4-44b9-a6e3-14ca7c3bfa4c",
   "metadata": {},
   "outputs": [
    {
     "data": {
      "text/plain": [
       "[0, 1, 2, 3, 4, 5, 6, 7, 8, 9, 10, 11, 12, 13, 14, 15, 16, 17]"
      ]
     },
     "execution_count": 22,
     "metadata": {},
     "output_type": "execute_result"
    }
   ],
   "source": [
    "list(range(0,18))"
   ]
  },
  {
   "cell_type": "code",
   "execution_count": 17,
   "id": "8bd65b97-f397-483b-8148-3c8054335619",
   "metadata": {},
   "outputs": [
    {
     "data": {
      "text/html": [
       "<div>\n",
       "<style scoped>\n",
       "    .dataframe tbody tr th:only-of-type {\n",
       "        vertical-align: middle;\n",
       "    }\n",
       "\n",
       "    .dataframe tbody tr th {\n",
       "        vertical-align: top;\n",
       "    }\n",
       "\n",
       "    .dataframe thead th {\n",
       "        text-align: right;\n",
       "    }\n",
       "</style>\n",
       "<table border=\"1\" class=\"dataframe\">\n",
       "  <thead>\n",
       "    <tr style=\"text-align: right;\">\n",
       "      <th></th>\n",
       "      <th>char</th>\n",
       "    </tr>\n",
       "  </thead>\n",
       "  <tbody>\n",
       "    <tr>\n",
       "      <th>500</th>\n",
       "      <td>冰</td>\n",
       "    </tr>\n",
       "    <tr>\n",
       "      <th>501</th>\n",
       "      <td>冲</td>\n",
       "    </tr>\n",
       "    <tr>\n",
       "      <th>502</th>\n",
       "      <td>决</td>\n",
       "    </tr>\n",
       "    <tr>\n",
       "      <th>503</th>\n",
       "      <td>况</td>\n",
       "    </tr>\n",
       "    <tr>\n",
       "      <th>504</th>\n",
       "      <td>冶</td>\n",
       "    </tr>\n",
       "    <tr>\n",
       "      <th>...</th>\n",
       "      <td>...</td>\n",
       "    </tr>\n",
       "    <tr>\n",
       "      <th>995</th>\n",
       "      <td>噁</td>\n",
       "    </tr>\n",
       "    <tr>\n",
       "      <th>996</th>\n",
       "      <td>噆</td>\n",
       "    </tr>\n",
       "    <tr>\n",
       "      <th>997</th>\n",
       "      <td>噇</td>\n",
       "    </tr>\n",
       "    <tr>\n",
       "      <th>998</th>\n",
       "      <td>噉</td>\n",
       "    </tr>\n",
       "    <tr>\n",
       "      <th>999</th>\n",
       "      <td>噍</td>\n",
       "    </tr>\n",
       "  </tbody>\n",
       "</table>\n",
       "<p>500 rows × 1 columns</p>\n",
       "</div>"
      ],
      "text/plain": [
       "    char\n",
       "500    冰\n",
       "501    冲\n",
       "502    决\n",
       "503    况\n",
       "504    冶\n",
       "..   ...\n",
       "995    噁\n",
       "996    噆\n",
       "997    噇\n",
       "998    噉\n",
       "999    噍\n",
       "\n",
       "[500 rows x 1 columns]"
      ]
     },
     "execution_count": 17,
     "metadata": {},
     "output_type": "execute_result"
    }
   ],
   "source": [
    "char_list.iloc[500:1000,:]"
   ]
  },
  {
   "cell_type": "code",
   "execution_count": 28,
   "id": "04984b0d-d3b5-4ebc-9a27-71fc6138c4ee",
   "metadata": {},
   "outputs": [
    {
     "data": {
      "text/plain": [
       "8568"
      ]
     },
     "execution_count": 28,
     "metadata": {},
     "output_type": "execute_result"
    }
   ],
   "source": [
    "len(char_list.iloc[0:8568,:])"
   ]
  },
  {
   "cell_type": "code",
   "execution_count": 18,
   "id": "6a6e8791-c126-4566-a2fa-0b346a01b398",
   "metadata": {},
   "outputs": [
    {
     "data": {
      "text/html": [
       "<div>\n",
       "<style scoped>\n",
       "    .dataframe tbody tr th:only-of-type {\n",
       "        vertical-align: middle;\n",
       "    }\n",
       "\n",
       "    .dataframe tbody tr th {\n",
       "        vertical-align: top;\n",
       "    }\n",
       "\n",
       "    .dataframe thead th {\n",
       "        text-align: right;\n",
       "    }\n",
       "</style>\n",
       "<table border=\"1\" class=\"dataframe\">\n",
       "  <thead>\n",
       "    <tr style=\"text-align: right;\">\n",
       "      <th></th>\n",
       "      <th>char</th>\n",
       "    </tr>\n",
       "  </thead>\n",
       "  <tbody>\n",
       "    <tr>\n",
       "      <th>0</th>\n",
       "      <td>㑹</td>\n",
       "    </tr>\n",
       "    <tr>\n",
       "      <th>1</th>\n",
       "      <td>㒿</td>\n",
       "    </tr>\n",
       "    <tr>\n",
       "      <th>2</th>\n",
       "      <td>㕙</td>\n",
       "    </tr>\n",
       "    <tr>\n",
       "      <th>3</th>\n",
       "      <td>㕮</td>\n",
       "    </tr>\n",
       "    <tr>\n",
       "      <th>4</th>\n",
       "      <td>㖀</td>\n",
       "    </tr>\n",
       "    <tr>\n",
       "      <th>...</th>\n",
       "      <td>...</td>\n",
       "    </tr>\n",
       "    <tr>\n",
       "      <th>495</th>\n",
       "      <td>冥</td>\n",
       "    </tr>\n",
       "    <tr>\n",
       "      <th>496</th>\n",
       "      <td>冨</td>\n",
       "    </tr>\n",
       "    <tr>\n",
       "      <th>497</th>\n",
       "      <td>冩</td>\n",
       "    </tr>\n",
       "    <tr>\n",
       "      <th>498</th>\n",
       "      <td>冪</td>\n",
       "    </tr>\n",
       "    <tr>\n",
       "      <th>499</th>\n",
       "      <td>冬</td>\n",
       "    </tr>\n",
       "  </tbody>\n",
       "</table>\n",
       "<p>500 rows × 1 columns</p>\n",
       "</div>"
      ],
      "text/plain": [
       "    char\n",
       "0      㑹\n",
       "1      㒿\n",
       "2      㕙\n",
       "3      㕮\n",
       "4      㖀\n",
       "..   ...\n",
       "495    冥\n",
       "496    冨\n",
       "497    冩\n",
       "498    冪\n",
       "499    冬\n",
       "\n",
       "[500 rows x 1 columns]"
      ]
     },
     "execution_count": 18,
     "metadata": {},
     "output_type": "execute_result"
    }
   ],
   "source": [
    "char_list.iloc[0:500,:]"
   ]
  },
  {
   "cell_type": "code",
   "execution_count": 12,
   "id": "2cb44a0a-9f12-47c4-8d89-4378b6a68e37",
   "metadata": {},
   "outputs": [],
   "source": [
    "char_list.to_excel('../data/char_list.xlsx')"
   ]
  }
 ],
 "metadata": {
  "kernelspec": {
   "display_name": "Python 3 (ipykernel)",
   "language": "python",
   "name": "python3"
  },
  "language_info": {
   "codemirror_mode": {
    "name": "ipython",
    "version": 3
   },
   "file_extension": ".py",
   "mimetype": "text/x-python",
   "name": "python",
   "nbconvert_exporter": "python",
   "pygments_lexer": "ipython3",
   "version": "3.9.7"
  }
 },
 "nbformat": 4,
 "nbformat_minor": 5
}
