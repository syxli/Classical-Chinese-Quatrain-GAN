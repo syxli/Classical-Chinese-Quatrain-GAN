{
 "cells": [
  {
   "cell_type": "code",
   "execution_count": 2,
   "id": "35d6cea9-20fe-402e-8080-f2fded546c62",
   "metadata": {},
   "outputs": [],
   "source": [
    "import numpy as np\n",
    "import pandas as pd\n",
    "from bs4 import BeautifulSoup\n",
    "import requests"
   ]
  },
  {
   "cell_type": "code",
   "execution_count": 3,
   "id": "9b8d94b4-89a0-4799-9c37-fbf19fd495fb",
   "metadata": {},
   "outputs": [],
   "source": [
    "def char_info(char):\n",
    "    info = {'char': char}\n",
    "    response = requests.get(f'https://ytenx.org/zim?dzih={char}&dzyen=1&jtkb=1&jtkd=1&jtdt=1&jtgt=1')\n",
    "    try: \n",
    "        soup = BeautifulSoup(response.text, 'lxml')\n",
    "        entry = list(soup.find_all('p')[0])\n",
    "        if entry[0] == '\\n':\n",
    "            return pd.DataFrame(info, index=[0])\n",
    "        info['tone'] = entry[0][-1]\n",
    "        info['rime'] = entry[1].text\n",
    "        if info['tone'] == '入':\n",
    "            info['ipa'] = entry[4].text.split()[1][0:-1]\n",
    "            info['tone_class'] = 'E'\n",
    "        elif info['tone'] == '平':\n",
    "            info['ipa'] = entry[4].text.split()[1][0:-1]\n",
    "            info['tone_class'] = 'L'        \n",
    "        else:\n",
    "            info['ipa'] = entry[4].text.split()[1][0:-2]\n",
    "            info['tone_class'] = entry[4].text.split()[1][-2]\n",
    "        return pd.DataFrame(info, index=[0])\n",
    "    except:\n",
    "        return pd.DataFrame()"
   ]
  },
  {
   "cell_type": "code",
   "execution_count": 4,
   "id": "5f3a6b62-ee61-4718-8064-cb27e8a27049",
   "metadata": {},
   "outputs": [],
   "source": [
    "iteration = 0"
   ]
  },
  {
   "cell_type": "code",
   "execution_count": 7,
   "id": "0b3de413-71c1-4755-959c-e10252e1f5c5",
   "metadata": {},
   "outputs": [],
   "source": [
    "df = pd.read_excel(f'../../../data/char_list_{iteration}.xlsx', index_col=0)"
   ]
  },
  {
   "cell_type": "code",
   "execution_count": 8,
   "id": "3d448f7e-41ab-4d3b-90f1-8b5faa9266ad",
   "metadata": {},
   "outputs": [],
   "source": [
    "dictionary = pd.concat([char_info(i) for i in df.char])"
   ]
  },
  {
   "cell_type": "code",
   "execution_count": 9,
   "id": "74da86cd-c664-42c1-b052-711fc9d8a34c",
   "metadata": {},
   "outputs": [],
   "source": [
    "dictionary.to_excel(f'../dictionary/dictionary_{iteration}.xlsx')"
   ]
  }
 ],
 "metadata": {
  "kernelspec": {
   "display_name": "Python 3 (ipykernel)",
   "language": "python",
   "name": "python3"
  },
  "language_info": {
   "codemirror_mode": {
    "name": "ipython",
    "version": 3
   },
   "file_extension": ".py",
   "mimetype": "text/x-python",
   "name": "python",
   "nbconvert_exporter": "python",
   "pygments_lexer": "ipython3",
   "version": "3.9.7"
  }
 },
 "nbformat": 4,
 "nbformat_minor": 5
}
