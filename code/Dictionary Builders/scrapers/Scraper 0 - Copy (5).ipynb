{
 "cells": [
  {
   "cell_type": "code",
   "execution_count": null,
   "id": "35d6cea9-20fe-402e-8080-f2fded546c62",
   "metadata": {},
   "outputs": [],
   "source": [
    "iteration = 5\n",
    "\n",
    "import numpy as np\n",
    "import pandas as pd\n",
    "from bs4 import BeautifulSoup\n",
    "import requests\n",
    "\n",
    "def char_info(char):\n",
    "    info = {'char': char}\n",
    "    response = requests.get(f'https://ytenx.org/zim?dzih={char}&dzyen=1&jtkb=1&jtkd=1&jtdt=1&jtgt=1')\n",
    "    try: \n",
    "        soup = BeautifulSoup(response.text, 'lxml')\n",
    "        entry = list(soup.find_all('p')[0])\n",
    "        if entry[0] == '\\n':\n",
    "            return pd.DataFrame(info, index=[0])\n",
    "        info['tone'] = entry[0][-1]\n",
    "        info['rime'] = entry[1].text\n",
    "        if info['tone'] == '入':\n",
    "            info['ipa'] = entry[4].text.split()[1][0:-1]\n",
    "            info['tone_class'] = 'E'\n",
    "        elif info['tone'] == '平':\n",
    "            info['ipa'] = entry[4].text.split()[1][0:-1]\n",
    "            info['tone_class'] = 'L'        \n",
    "        else:\n",
    "            info['ipa'] = entry[4].text.split()[1][0:-2]\n",
    "            info['tone_class'] = entry[4].text.split()[1][-2]\n",
    "        return pd.DataFrame(info, index=[0])\n",
    "    except:\n",
    "        return pd.DataFrame()\n",
    "    \n",
    "df = pd.read_csv(f'../data/char_list_{iteration}.csv', index_col=0)\n",
    "\n",
    "dictionary = pd.concat([char_info(i) for i in df.char])\n",
    "\n",
    "dictionary.to_csv(f'../dictionary/dictionary_{iteration}.csv')"
   ]
  },
  {
   "cell_type": "code",
   "execution_count": 10,
   "id": "ba750bd8-7891-4caf-bf6b-b097595cc57c",
   "metadata": {
    "jupyter": {
     "source_hidden": true
    },
    "tags": []
   },
   "outputs": [],
   "source": [
    "dictionary = []\n",
    "for i in df.char:\n",
    "    n = char_info(i)\n",
    "    dictionary.append(n)"
   ]
  }
 ],
 "metadata": {
  "kernelspec": {
   "display_name": "Python 3 (ipykernel)",
   "language": "python",
   "name": "python3"
  },
  "language_info": {
   "codemirror_mode": {
    "name": "ipython",
    "version": 3
   },
   "file_extension": ".py",
   "mimetype": "text/x-python",
   "name": "python",
   "nbconvert_exporter": "python",
   "pygments_lexer": "ipython3",
   "version": "3.9.7"
  }
 },
 "nbformat": 4,
 "nbformat_minor": 5
}
