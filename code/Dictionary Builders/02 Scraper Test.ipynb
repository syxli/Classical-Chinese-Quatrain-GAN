{
 "cells": [
  {
   "cell_type": "code",
   "execution_count": 1,
   "id": "78ad3300-4409-487f-b66f-e7e42d2dda2e",
   "metadata": {},
   "outputs": [],
   "source": [
    "import numpy as np\n",
    "import pandas as pd\n",
    "from bs4 import BeautifulSoup\n",
    "import requests"
   ]
  },
  {
   "cell_type": "code",
   "execution_count": 2,
   "id": "3f413641-1d09-415f-8a3a-c111262137bb",
   "metadata": {},
   "outputs": [],
   "source": [
    "def char_info(char):\n",
    "    info = {'char': char}\n",
    "    response = requests.get(f'https://ytenx.org/zim?dzih={char}&dzyen=1&jtkb=1&jtkd=1&jtdt=1&jtgt=1')\n",
    "    try: \n",
    "        soup = BeautifulSoup(response.text, 'lxml')\n",
    "        entry = list(soup.find_all('p')[0])\n",
    "        if entry[0] == '\\n':\n",
    "            return pd.DataFrame(info, index=[0])\n",
    "        info['tone'] = entry[0][-1]\n",
    "        info['rime'] = entry[1].text\n",
    "        if info['tone'] == '入':\n",
    "            info['ipa'] = entry[4].text.split()[1][0:-1]\n",
    "            info['tone_class'] = 'E'\n",
    "        elif info['tone'] == '平':\n",
    "            info['ipa'] = entry[4].text.split()[1][0:-1]\n",
    "            info['tone_class'] = 'L'        \n",
    "        else:\n",
    "            info['ipa'] = entry[4].text.split()[1][0:-2]\n",
    "            info['tone_class'] = entry[4].text.split()[1][-2]\n",
    "        return pd.DataFrame(info, index=[0])\n",
    "    except:\n",
    "        return pd.DataFrame()"
   ]
  },
  {
   "cell_type": "code",
   "execution_count": 3,
   "id": "c9b5b279-cdf8-49cd-89f2-c909564fbf28",
   "metadata": {},
   "outputs": [
    {
     "data": {
      "text/html": [
       "<div>\n",
       "<style scoped>\n",
       "    .dataframe tbody tr th:only-of-type {\n",
       "        vertical-align: middle;\n",
       "    }\n",
       "\n",
       "    .dataframe tbody tr th {\n",
       "        vertical-align: top;\n",
       "    }\n",
       "\n",
       "    .dataframe thead th {\n",
       "        text-align: right;\n",
       "    }\n",
       "</style>\n",
       "<table border=\"1\" class=\"dataframe\">\n",
       "  <thead>\n",
       "    <tr style=\"text-align: right;\">\n",
       "      <th></th>\n",
       "      <th>char</th>\n",
       "      <th>tone</th>\n",
       "      <th>rime</th>\n",
       "      <th>ipa</th>\n",
       "      <th>tone_class</th>\n",
       "    </tr>\n",
       "  </thead>\n",
       "  <tbody>\n",
       "    <tr>\n",
       "      <th>0</th>\n",
       "      <td>明</td>\n",
       "      <td>平</td>\n",
       "      <td>庚</td>\n",
       "      <td>mjaeng</td>\n",
       "      <td>L</td>\n",
       "    </tr>\n",
       "  </tbody>\n",
       "</table>\n",
       "</div>"
      ],
      "text/plain": [
       "  char tone rime     ipa tone_class\n",
       "0    明    平    庚  mjaeng          L"
      ]
     },
     "execution_count": 3,
     "metadata": {},
     "output_type": "execute_result"
    }
   ],
   "source": [
    "char_info('明')"
   ]
  },
  {
   "cell_type": "code",
   "execution_count": 4,
   "id": "e341da5f-169f-4da1-b5d2-c40cd8e62ff0",
   "metadata": {},
   "outputs": [
    {
     "data": {
      "text/html": [
       "<div>\n",
       "<style scoped>\n",
       "    .dataframe tbody tr th:only-of-type {\n",
       "        vertical-align: middle;\n",
       "    }\n",
       "\n",
       "    .dataframe tbody tr th {\n",
       "        vertical-align: top;\n",
       "    }\n",
       "\n",
       "    .dataframe thead th {\n",
       "        text-align: right;\n",
       "    }\n",
       "</style>\n",
       "<table border=\"1\" class=\"dataframe\">\n",
       "  <thead>\n",
       "    <tr style=\"text-align: right;\">\n",
       "      <th></th>\n",
       "      <th>char</th>\n",
       "      <th>tone</th>\n",
       "      <th>rime</th>\n",
       "      <th>ipa</th>\n",
       "      <th>tone_class</th>\n",
       "    </tr>\n",
       "  </thead>\n",
       "  <tbody>\n",
       "    <tr>\n",
       "      <th>0</th>\n",
       "      <td>起</td>\n",
       "      <td>上</td>\n",
       "      <td>止</td>\n",
       "      <td>khi</td>\n",
       "      <td>X</td>\n",
       "    </tr>\n",
       "  </tbody>\n",
       "</table>\n",
       "</div>"
      ],
      "text/plain": [
       "  char tone rime  ipa tone_class\n",
       "0    起    上    止  khi          X"
      ]
     },
     "execution_count": 4,
     "metadata": {},
     "output_type": "execute_result"
    }
   ],
   "source": [
    "char_info('起')"
   ]
  },
  {
   "cell_type": "code",
   "execution_count": 5,
   "id": "e37a6cb0-23e0-494a-a2e4-bf9a9f26e66d",
   "metadata": {},
   "outputs": [
    {
     "data": {
      "text/html": [
       "<div>\n",
       "<style scoped>\n",
       "    .dataframe tbody tr th:only-of-type {\n",
       "        vertical-align: middle;\n",
       "    }\n",
       "\n",
       "    .dataframe tbody tr th {\n",
       "        vertical-align: top;\n",
       "    }\n",
       "\n",
       "    .dataframe thead th {\n",
       "        text-align: right;\n",
       "    }\n",
       "</style>\n",
       "<table border=\"1\" class=\"dataframe\">\n",
       "  <thead>\n",
       "    <tr style=\"text-align: right;\">\n",
       "      <th></th>\n",
       "      <th>char</th>\n",
       "      <th>tone</th>\n",
       "      <th>rime</th>\n",
       "      <th>ipa</th>\n",
       "      <th>tone_class</th>\n",
       "    </tr>\n",
       "  </thead>\n",
       "  <tbody>\n",
       "    <tr>\n",
       "      <th>0</th>\n",
       "      <td>會</td>\n",
       "      <td>去</td>\n",
       "      <td>泰</td>\n",
       "      <td>hwaj</td>\n",
       "      <td>H</td>\n",
       "    </tr>\n",
       "  </tbody>\n",
       "</table>\n",
       "</div>"
      ],
      "text/plain": [
       "  char tone rime   ipa tone_class\n",
       "0    會    去    泰  hwaj          H"
      ]
     },
     "execution_count": 5,
     "metadata": {},
     "output_type": "execute_result"
    }
   ],
   "source": [
    "char_info('會')"
   ]
  },
  {
   "cell_type": "code",
   "execution_count": 6,
   "id": "055aaa8e-3451-4fdb-811a-8a0979e059b7",
   "metadata": {},
   "outputs": [
    {
     "data": {
      "text/html": [
       "<div>\n",
       "<style scoped>\n",
       "    .dataframe tbody tr th:only-of-type {\n",
       "        vertical-align: middle;\n",
       "    }\n",
       "\n",
       "    .dataframe tbody tr th {\n",
       "        vertical-align: top;\n",
       "    }\n",
       "\n",
       "    .dataframe thead th {\n",
       "        text-align: right;\n",
       "    }\n",
       "</style>\n",
       "<table border=\"1\" class=\"dataframe\">\n",
       "  <thead>\n",
       "    <tr style=\"text-align: right;\">\n",
       "      <th></th>\n",
       "      <th>char</th>\n",
       "      <th>tone</th>\n",
       "      <th>rime</th>\n",
       "      <th>ipa</th>\n",
       "      <th>tone_class</th>\n",
       "    </tr>\n",
       "  </thead>\n",
       "  <tbody>\n",
       "    <tr>\n",
       "      <th>0</th>\n",
       "      <td>烈</td>\n",
       "      <td>入</td>\n",
       "      <td>薛</td>\n",
       "      <td>ljet</td>\n",
       "      <td>E</td>\n",
       "    </tr>\n",
       "  </tbody>\n",
       "</table>\n",
       "</div>"
      ],
      "text/plain": [
       "  char tone rime   ipa tone_class\n",
       "0    烈    入    薛  ljet          E"
      ]
     },
     "execution_count": 6,
     "metadata": {},
     "output_type": "execute_result"
    }
   ],
   "source": [
    "char_info('烈')"
   ]
  },
  {
   "cell_type": "code",
   "execution_count": 9,
   "id": "686a656c-a806-41f7-ab82-ea46072edc0e",
   "metadata": {},
   "outputs": [],
   "source": [
    "df = pd.read_excel('./../data/char_list_0.xlsx', index_col=0)"
   ]
  },
  {
   "cell_type": "code",
   "execution_count": 11,
   "id": "989ace28-deb1-4acb-9158-61efaf7f9590",
   "metadata": {},
   "outputs": [
    {
     "name": "stdout",
     "output_type": "stream",
     "text": [
      "Wall time: 1min 30s\n"
     ]
    }
   ],
   "source": [
    "%%time\n",
    "dictionary = pd.concat([char_info(i) for i in df.char])"
   ]
  },
  {
   "cell_type": "code",
   "execution_count": 7,
   "id": "245844a2-9b8a-41b1-a800-7d84857ac545",
   "metadata": {},
   "outputs": [
    {
     "ename": "NameError",
     "evalue": "name 'dictionary' is not defined",
     "output_type": "error",
     "traceback": [
      "\u001b[1;31m---------------------------------------------------------------------------\u001b[0m",
      "\u001b[1;31mNameError\u001b[0m                                 Traceback (most recent call last)",
      "\u001b[1;32m~\\AppData\\Local\\Temp/ipykernel_3964/672458454.py\u001b[0m in \u001b[0;36m<module>\u001b[1;34m\u001b[0m\n\u001b[1;32m----> 1\u001b[1;33m \u001b[0mdictionary\u001b[0m\u001b[1;33m.\u001b[0m\u001b[0mto_excel\u001b[0m\u001b[1;33m(\u001b[0m\u001b[1;34mf'../dictionary/dictionary_0.xlsx'\u001b[0m\u001b[1;33m)\u001b[0m\u001b[1;33m\u001b[0m\u001b[1;33m\u001b[0m\u001b[0m\n\u001b[0m",
      "\u001b[1;31mNameError\u001b[0m: name 'dictionary' is not defined"
     ]
    }
   ],
   "source": [
    "dictionary.to_excel(f'../dictionary/dictionary_0.xlsx')"
   ]
  },
  {
   "cell_type": "code",
   "execution_count": null,
   "id": "2cad5ff1-0d7e-4acc-872c-8077183cbacf",
   "metadata": {},
   "outputs": [],
   "source": []
  }
 ],
 "metadata": {
  "kernelspec": {
   "display_name": "Python 3 (ipykernel)",
   "language": "python",
   "name": "python3"
  },
  "language_info": {
   "codemirror_mode": {
    "name": "ipython",
    "version": 3
   },
   "file_extension": ".py",
   "mimetype": "text/x-python",
   "name": "python",
   "nbconvert_exporter": "python",
   "pygments_lexer": "ipython3",
   "version": "3.9.7"
  }
 },
 "nbformat": 4,
 "nbformat_minor": 5
}
