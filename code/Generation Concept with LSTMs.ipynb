{
 "cells": [
  {
   "cell_type": "code",
   "execution_count": 1,
   "id": "cf63599d-ecbf-4515-bef6-506278d36811",
   "metadata": {},
   "outputs": [],
   "source": [
    "import pandas as pd\n",
    "import numpy as np"
   ]
  },
  {
   "cell_type": "code",
   "execution_count": 2,
   "id": "0905c7b4-474d-4aab-b340-80378b47e904",
   "metadata": {},
   "outputs": [],
   "source": [
    "poetry = pd.read_csv('../data/quatrains_w_info.csv', index_col=0)"
   ]
  },
  {
   "cell_type": "code",
   "execution_count": 3,
   "id": "284ee300-691f-47c5-8c90-db5860b54048",
   "metadata": {},
   "outputs": [],
   "source": [
    "dictionary = pd.read_csv('../data/dictionary_cleaned.csv', index_col=0)"
   ]
  },
  {
   "cell_type": "code",
   "execution_count": 4,
   "id": "7b0559e3-db6a-4fdb-9ed7-e0a2d037c553",
   "metadata": {},
   "outputs": [
    {
     "data": {
      "text/html": [
       "<div>\n",
       "<style scoped>\n",
       "    .dataframe tbody tr th:only-of-type {\n",
       "        vertical-align: middle;\n",
       "    }\n",
       "\n",
       "    .dataframe tbody tr th {\n",
       "        vertical-align: top;\n",
       "    }\n",
       "\n",
       "    .dataframe thead th {\n",
       "        text-align: right;\n",
       "    }\n",
       "</style>\n",
       "<table border=\"1\" class=\"dataframe\">\n",
       "  <thead>\n",
       "    <tr style=\"text-align: right;\">\n",
       "      <th></th>\n",
       "      <th>text</th>\n",
       "      <th>tokens</th>\n",
       "      <th>meter_score</th>\n",
       "      <th>rhyme</th>\n",
       "      <th>target</th>\n",
       "    </tr>\n",
       "  </thead>\n",
       "  <tbody>\n",
       "    <tr>\n",
       "      <th>0</th>\n",
       "      <td>澄潭皎鏡石崔巍萬壑千岩暗綠苔林亭自有幽貞趣況複秋深爽氣來</td>\n",
       "      <td>[3497, 3485, 4137, 7002, 4278, 1538, 1605, 552...</td>\n",
       "      <td>1.0</td>\n",
       "      <td>1</td>\n",
       "      <td>1</td>\n",
       "    </tr>\n",
       "    <tr>\n",
       "      <th>1</th>\n",
       "      <td>憶昔嬌妃在紫宸鉛華不禦得天真霜綃雖似當時態爭奈嬌波不顧人</td>\n",
       "      <td>[2064, 2534, 1323, 1208, 999, 4802, 1392, 6911...</td>\n",
       "      <td>1.0</td>\n",
       "      <td>1</td>\n",
       "      <td>1</td>\n",
       "    </tr>\n",
       "    <tr>\n",
       "      <th>2</th>\n",
       "      <td>刻木牽絲作老翁雞皮鶴發與真同須臾弄罷寂無事還似人生一夢中</td>\n",
       "      <td>[514, 2654, 3752, 4841, 211, 5096, 5066, 7204,...</td>\n",
       "      <td>1.0</td>\n",
       "      <td>1</td>\n",
       "      <td>1</td>\n",
       "    </tr>\n",
       "    <tr>\n",
       "      <th>3</th>\n",
       "      <td>禁苑秋來爽氣多昆明風動起滄波中流簫鼓誠堪賞詎假橫汾發棹歌</td>\n",
       "      <td>[4400, 5391, 4433, 231, 3722, 3133, 1159, 2526...</td>\n",
       "      <td>0.5</td>\n",
       "      <td>1</td>\n",
       "      <td>1</td>\n",
       "    </tr>\n",
       "    <tr>\n",
       "      <th>4</th>\n",
       "      <td>大殿連雲接爽溪鐘聲還與鼓聲齊長安若問江南事說道風光在水西</td>\n",
       "      <td>[1164, 3097, 6651, 7211, 2275, 3722, 3410, 700...</td>\n",
       "      <td>1.0</td>\n",
       "      <td>1</td>\n",
       "      <td>1</td>\n",
       "    </tr>\n",
       "    <tr>\n",
       "      <th>...</th>\n",
       "      <td>...</td>\n",
       "      <td>...</td>\n",
       "      <td>...</td>\n",
       "      <td>...</td>\n",
       "      <td>...</td>\n",
       "    </tr>\n",
       "    <tr>\n",
       "      <th>62206</th>\n",
       "      <td>故園東望路漫漫雙袖龍鍾淚不乾馬上相逢無紙筆憑君傳語報平安</td>\n",
       "      <td>[2431, 989, 2691, 2648, 6428, 3461, 3461, 7200...</td>\n",
       "      <td>0.5</td>\n",
       "      <td>1</td>\n",
       "      <td>1</td>\n",
       "    </tr>\n",
       "    <tr>\n",
       "      <th>62207</th>\n",
       "      <td>黃沙磧裏客行迷四望雲天直下低爲言地盡天還盡行到安西更向西</td>\n",
       "      <td>[7860, 3185, 4344, 5971, 1380, 5916, 6622, 971...</td>\n",
       "      <td>1.0</td>\n",
       "      <td>1</td>\n",
       "      <td>1</td>\n",
       "    </tr>\n",
       "    <tr>\n",
       "      <th>62208</th>\n",
       "      <td>西向輪臺萬里馀也知鄉信日應疎隴山鸚鵡能言語爲報家人數寄書</td>\n",
       "      <td>[6037, 719, 6556, 5294, 5528, 6875, 7478, 111,...</td>\n",
       "      <td>0.5</td>\n",
       "      <td>1</td>\n",
       "      <td>1</td>\n",
       "    </tr>\n",
       "    <tr>\n",
       "      <th>62209</th>\n",
       "      <td>朱脣一點桃花殷宿妝嬌羞偏髻鬟細看只似陽臺女醉着莫許歸巫山</td>\n",
       "      <td>[2660, 5210, 67, 7876, 2778, 5381, 3092, 1394,...</td>\n",
       "      <td>1.0</td>\n",
       "      <td>1</td>\n",
       "      <td>1</td>\n",
       "    </tr>\n",
       "    <tr>\n",
       "      <th>62210</th>\n",
       "      <td>常聞嬴女玉簫臺奏曲情深彩鳳來欲登此地銷歸恨却羨雙飛去不回</td>\n",
       "      <td>[1658, 5129, 1332, 1201, 3844, 4693, 5294, 118...</td>\n",
       "      <td>1.0</td>\n",
       "      <td>1</td>\n",
       "      <td>1</td>\n",
       "    </tr>\n",
       "  </tbody>\n",
       "</table>\n",
       "<p>62211 rows × 5 columns</p>\n",
       "</div>"
      ],
      "text/plain": [
       "                               text  \\\n",
       "0      澄潭皎鏡石崔巍萬壑千岩暗綠苔林亭自有幽貞趣況複秋深爽氣來   \n",
       "1      憶昔嬌妃在紫宸鉛華不禦得天真霜綃雖似當時態爭奈嬌波不顧人   \n",
       "2      刻木牽絲作老翁雞皮鶴發與真同須臾弄罷寂無事還似人生一夢中   \n",
       "3      禁苑秋來爽氣多昆明風動起滄波中流簫鼓誠堪賞詎假橫汾發棹歌   \n",
       "4      大殿連雲接爽溪鐘聲還與鼓聲齊長安若問江南事說道風光在水西   \n",
       "...                             ...   \n",
       "62206  故園東望路漫漫雙袖龍鍾淚不乾馬上相逢無紙筆憑君傳語報平安   \n",
       "62207  黃沙磧裏客行迷四望雲天直下低爲言地盡天還盡行到安西更向西   \n",
       "62208  西向輪臺萬里馀也知鄉信日應疎隴山鸚鵡能言語爲報家人數寄書   \n",
       "62209  朱脣一點桃花殷宿妝嬌羞偏髻鬟細看只似陽臺女醉着莫許歸巫山   \n",
       "62210  常聞嬴女玉簫臺奏曲情深彩鳳來欲登此地銷歸恨却羨雙飛去不回   \n",
       "\n",
       "                                                  tokens  meter_score  rhyme  \\\n",
       "0      [3497, 3485, 4137, 7002, 4278, 1538, 1605, 552...          1.0      1   \n",
       "1      [2064, 2534, 1323, 1208, 999, 4802, 1392, 6911...          1.0      1   \n",
       "2      [514, 2654, 3752, 4841, 211, 5096, 5066, 7204,...          1.0      1   \n",
       "3      [4400, 5391, 4433, 231, 3722, 3133, 1159, 2526...          0.5      1   \n",
       "4      [1164, 3097, 6651, 7211, 2275, 3722, 3410, 700...          1.0      1   \n",
       "...                                                  ...          ...    ...   \n",
       "62206  [2431, 989, 2691, 2648, 6428, 3461, 3461, 7200...          0.5      1   \n",
       "62207  [7860, 3185, 4344, 5971, 1380, 5916, 6622, 971...          1.0      1   \n",
       "62208  [6037, 719, 6556, 5294, 5528, 6875, 7478, 111,...          0.5      1   \n",
       "62209  [2660, 5210, 67, 7876, 2778, 5381, 3092, 1394,...          1.0      1   \n",
       "62210  [1658, 5129, 1332, 1201, 3844, 4693, 5294, 118...          1.0      1   \n",
       "\n",
       "       target  \n",
       "0           1  \n",
       "1           1  \n",
       "2           1  \n",
       "3           1  \n",
       "4           1  \n",
       "...       ...  \n",
       "62206       1  \n",
       "62207       1  \n",
       "62208       1  \n",
       "62209       1  \n",
       "62210       1  \n",
       "\n",
       "[62211 rows x 5 columns]"
      ]
     },
     "execution_count": 4,
     "metadata": {},
     "output_type": "execute_result"
    }
   ],
   "source": [
    "poetry"
   ]
  },
  {
   "cell_type": "code",
   "execution_count": 5,
   "id": "5e87c468-9bc6-4cc0-a069-3b8eadfbd004",
   "metadata": {},
   "outputs": [
    {
     "data": {
      "text/html": [
       "<div>\n",
       "<style scoped>\n",
       "    .dataframe tbody tr th:only-of-type {\n",
       "        vertical-align: middle;\n",
       "    }\n",
       "\n",
       "    .dataframe tbody tr th {\n",
       "        vertical-align: top;\n",
       "    }\n",
       "\n",
       "    .dataframe thead th {\n",
       "        text-align: right;\n",
       "    }\n",
       "</style>\n",
       "<table border=\"1\" class=\"dataframe\">\n",
       "  <thead>\n",
       "    <tr style=\"text-align: right;\">\n",
       "      <th></th>\n",
       "      <th>char</th>\n",
       "      <th>tone</th>\n",
       "      <th>rime</th>\n",
       "      <th>ipa</th>\n",
       "      <th>tone_class</th>\n",
       "      <th>pinyin</th>\n",
       "      <th>jyutping</th>\n",
       "      <th>hangul</th>\n",
       "      <th>rime_index</th>\n",
       "      <th>meter_class</th>\n",
       "    </tr>\n",
       "  </thead>\n",
       "  <tbody>\n",
       "    <tr>\n",
       "      <th>4000</th>\n",
       "      <td>用</td>\n",
       "      <td>去</td>\n",
       "      <td>用</td>\n",
       "      <td>yowng</td>\n",
       "      <td>H</td>\n",
       "      <td>yòng</td>\n",
       "      <td>jung6</td>\n",
       "      <td>용</td>\n",
       "      <td>1</td>\n",
       "      <td>0</td>\n",
       "    </tr>\n",
       "    <tr>\n",
       "      <th>4001</th>\n",
       "      <td>甪</td>\n",
       "      <td>入</td>\n",
       "      <td>屋</td>\n",
       "      <td>luwk</td>\n",
       "      <td>E</td>\n",
       "      <td>lù</td>\n",
       "      <td>luk6</td>\n",
       "      <td>녹</td>\n",
       "      <td>1</td>\n",
       "      <td>0</td>\n",
       "    </tr>\n",
       "    <tr>\n",
       "      <th>4002</th>\n",
       "      <td>甫</td>\n",
       "      <td>上</td>\n",
       "      <td>麌</td>\n",
       "      <td>pju</td>\n",
       "      <td>X</td>\n",
       "      <td>fǔ</td>\n",
       "      <td>fu2</td>\n",
       "      <td>보</td>\n",
       "      <td>4</td>\n",
       "      <td>0</td>\n",
       "    </tr>\n",
       "    <tr>\n",
       "      <th>4003</th>\n",
       "      <td>甬</td>\n",
       "      <td>上</td>\n",
       "      <td>腫</td>\n",
       "      <td>yowng</td>\n",
       "      <td>X</td>\n",
       "      <td>yǒng</td>\n",
       "      <td>jung2</td>\n",
       "      <td>용</td>\n",
       "      <td>1</td>\n",
       "      <td>0</td>\n",
       "    </tr>\n",
       "    <tr>\n",
       "      <th>4004</th>\n",
       "      <td>甯</td>\n",
       "      <td>去</td>\n",
       "      <td>徑</td>\n",
       "      <td>neng</td>\n",
       "      <td>H</td>\n",
       "      <td>níng</td>\n",
       "      <td>ning4</td>\n",
       "      <td>영</td>\n",
       "      <td>12</td>\n",
       "      <td>0</td>\n",
       "    </tr>\n",
       "    <tr>\n",
       "      <th>4005</th>\n",
       "      <td>田</td>\n",
       "      <td>平</td>\n",
       "      <td>先</td>\n",
       "      <td>den</td>\n",
       "      <td>L</td>\n",
       "      <td>tián</td>\n",
       "      <td>tin4</td>\n",
       "      <td>전</td>\n",
       "      <td>7</td>\n",
       "      <td>1</td>\n",
       "    </tr>\n",
       "    <tr>\n",
       "      <th>4006</th>\n",
       "      <td>由</td>\n",
       "      <td>平</td>\n",
       "      <td>尤</td>\n",
       "      <td>yuw</td>\n",
       "      <td>L</td>\n",
       "      <td>yóu</td>\n",
       "      <td>jau4</td>\n",
       "      <td>유</td>\n",
       "      <td>14</td>\n",
       "      <td>1</td>\n",
       "    </tr>\n",
       "    <tr>\n",
       "      <th>4007</th>\n",
       "      <td>甲</td>\n",
       "      <td>入</td>\n",
       "      <td>狎</td>\n",
       "      <td>kaep</td>\n",
       "      <td>E</td>\n",
       "      <td>jiǎ</td>\n",
       "      <td>gaap3</td>\n",
       "      <td>갑</td>\n",
       "      <td>16</td>\n",
       "      <td>0</td>\n",
       "    </tr>\n",
       "    <tr>\n",
       "      <th>4008</th>\n",
       "      <td>申</td>\n",
       "      <td>平</td>\n",
       "      <td>眞</td>\n",
       "      <td>syin</td>\n",
       "      <td>L</td>\n",
       "      <td>shēn</td>\n",
       "      <td>san1</td>\n",
       "      <td>신</td>\n",
       "      <td>6</td>\n",
       "      <td>1</td>\n",
       "    </tr>\n",
       "    <tr>\n",
       "      <th>4009</th>\n",
       "      <td>男</td>\n",
       "      <td>平</td>\n",
       "      <td>覃</td>\n",
       "      <td>nom</td>\n",
       "      <td>L</td>\n",
       "      <td>nán</td>\n",
       "      <td>naam4</td>\n",
       "      <td>남</td>\n",
       "      <td>16</td>\n",
       "      <td>1</td>\n",
       "    </tr>\n",
       "    <tr>\n",
       "      <th>4010</th>\n",
       "      <td>甸</td>\n",
       "      <td>去</td>\n",
       "      <td>霰</td>\n",
       "      <td>den</td>\n",
       "      <td>H</td>\n",
       "      <td>diàn</td>\n",
       "      <td>din6</td>\n",
       "      <td>전</td>\n",
       "      <td>7</td>\n",
       "      <td>0</td>\n",
       "    </tr>\n",
       "    <tr>\n",
       "      <th>4011</th>\n",
       "      <td>町</td>\n",
       "      <td>平</td>\n",
       "      <td>青</td>\n",
       "      <td>theng</td>\n",
       "      <td>L</td>\n",
       "      <td>tǐng</td>\n",
       "      <td>ting5</td>\n",
       "      <td>정</td>\n",
       "      <td>12</td>\n",
       "      <td>1</td>\n",
       "    </tr>\n",
       "    <tr>\n",
       "      <th>4012</th>\n",
       "      <td>甽</td>\n",
       "      <td>上</td>\n",
       "      <td>銑</td>\n",
       "      <td>kwen</td>\n",
       "      <td>X</td>\n",
       "      <td>quǎn</td>\n",
       "      <td>hyun2</td>\n",
       "      <td>견</td>\n",
       "      <td>7</td>\n",
       "      <td>0</td>\n",
       "    </tr>\n",
       "    <tr>\n",
       "      <th>4013</th>\n",
       "      <td>甿</td>\n",
       "      <td>平</td>\n",
       "      <td>耕</td>\n",
       "      <td>meang</td>\n",
       "      <td>L</td>\n",
       "      <td>méng</td>\n",
       "      <td>maang4</td>\n",
       "      <td>맹</td>\n",
       "      <td>12</td>\n",
       "      <td>1</td>\n",
       "    </tr>\n",
       "    <tr>\n",
       "      <th>4014</th>\n",
       "      <td>畀</td>\n",
       "      <td>去</td>\n",
       "      <td>至</td>\n",
       "      <td>pjij</td>\n",
       "      <td>H</td>\n",
       "      <td>bì</td>\n",
       "      <td>bei2</td>\n",
       "      <td>비</td>\n",
       "      <td>3</td>\n",
       "      <td>0</td>\n",
       "    </tr>\n",
       "  </tbody>\n",
       "</table>\n",
       "</div>"
      ],
      "text/plain": [
       "     char tone rime    ipa tone_class pinyin jyutping hangul  rime_index  \\\n",
       "4000    用    去    用  yowng          H   yòng    jung6      용           1   \n",
       "4001    甪    入    屋   luwk          E     lù     luk6      녹           1   \n",
       "4002    甫    上    麌    pju          X     fǔ      fu2      보           4   \n",
       "4003    甬    上    腫  yowng          X   yǒng    jung2      용           1   \n",
       "4004    甯    去    徑   neng          H   níng    ning4      영          12   \n",
       "4005    田    平    先    den          L   tián     tin4      전           7   \n",
       "4006    由    平    尤    yuw          L    yóu     jau4      유          14   \n",
       "4007    甲    入    狎   kaep          E    jiǎ    gaap3      갑          16   \n",
       "4008    申    平    眞   syin          L   shēn     san1      신           6   \n",
       "4009    男    平    覃    nom          L    nán    naam4      남          16   \n",
       "4010    甸    去    霰    den          H   diàn     din6      전           7   \n",
       "4011    町    平    青  theng          L   tǐng    ting5      정          12   \n",
       "4012    甽    上    銑   kwen          X   quǎn    hyun2      견           7   \n",
       "4013    甿    平    耕  meang          L   méng   maang4      맹          12   \n",
       "4014    畀    去    至   pjij          H     bì     bei2      비           3   \n",
       "\n",
       "      meter_class  \n",
       "4000            0  \n",
       "4001            0  \n",
       "4002            0  \n",
       "4003            0  \n",
       "4004            0  \n",
       "4005            1  \n",
       "4006            1  \n",
       "4007            0  \n",
       "4008            1  \n",
       "4009            1  \n",
       "4010            0  \n",
       "4011            1  \n",
       "4012            0  \n",
       "4013            1  \n",
       "4014            0  "
      ]
     },
     "execution_count": 5,
     "metadata": {},
     "output_type": "execute_result"
    }
   ],
   "source": [
    "dictionary.iloc[4000:4015,:]"
   ]
  },
  {
   "cell_type": "code",
   "execution_count": 6,
   "id": "cf678197-3ec5-444b-80f6-f49bd5a84d19",
   "metadata": {},
   "outputs": [],
   "source": [
    "chars = {dictionary.char[i]: i for i in range(0,len(dictionary))}\n",
    "char_dict = {i: {'char': dictionary.char[i],\n",
    "                 'tone': dictionary.tone_class[i],\n",
    "                 'rime': dictionary.rime_index[i],\n",
    "                 'meter': dictionary.meter_class[i]\n",
    "                 } for i in range(0,len(dictionary))}"
   ]
  },
  {
   "cell_type": "code",
   "execution_count": 7,
   "id": "865f6308-68a6-4fe4-a92f-d56adf97d137",
   "metadata": {},
   "outputs": [],
   "source": [
    "meters = [\n",
    "    [1,1,0,0,1,1,0,\n",
    "     0,0,1,1,0,0,1,\n",
    "     0,0,1,1,0,0,1,\n",
    "     1,1,0,0,0,1,1],\n",
    "    [0,0,1,1,1,0,0,\n",
    "     1,1,0,0,0,1,1,\n",
    "     1,1,0,0,1,1,0,\n",
    "     0,0,1,1,0,0,1],\n",
    "    [1,1,0,0,0,1,1,\n",
    "     0,0,1,1,0,0,1,\n",
    "     0,0,1,1,1,0,0,\n",
    "     1,1,0,0,0,1,1],\n",
    "    [0,0,1,1,0,0,1,\n",
    "     1,1,0,0,0,1,1,\n",
    "     1,1,0,0,1,1,0,\n",
    "     0,0,1,1,0,0,1],\n",
    "    [0,0,1,1,0,0,1,\n",
    "     1,1,0,0,0,1,1,\n",
    "     1,1,0,0,1,1,0,\n",
    "     0,0,1,1,0,0,1],\n",
    "    [1,1,0,0,0,1,1,\n",
    "     0,0,1,1,0,0,1,\n",
    "     0,0,1,1,1,0,0,\n",
    "     1,1,0,0,0,1,1],\n",
    "    [0,0,1,1,1,0,0,\n",
    "     1,1,0,0,0,1,1,\n",
    "     1,1,0,0,1,1,0,\n",
    "     0,0,1,1,0,0,1],\n",
    "    [1,1,0,0,1,1,0,\n",
    "     0,0,1,1,0,0,1,\n",
    "     0,0,1,1,1,0,0,\n",
    "     1,1,0,0,0,1,1]\n",
    "]"
   ]
  },
  {
   "cell_type": "code",
   "execution_count": 8,
   "id": "523c016e-62d3-47cb-9bfb-53846cd7392d",
   "metadata": {},
   "outputs": [],
   "source": [
    "def text_tokenizer(text):\n",
    "    return [chars[i] for i in text]"
   ]
  },
  {
   "cell_type": "code",
   "execution_count": 9,
   "id": "7aa66e12-f4d8-4941-aa22-602374a640cf",
   "metadata": {},
   "outputs": [],
   "source": [
    "def token_to_text(tokens):\n",
    "    return ''.join([char_dict[i]['char'] for i in tokens])"
   ]
  },
  {
   "cell_type": "code",
   "execution_count": 10,
   "id": "39658bcd-bb3e-4746-9c4d-3cc6ea46c174",
   "metadata": {},
   "outputs": [],
   "source": [
    "def rhyme_checker(tokens):\n",
    "    if char_dict[tokens[13]]['rime'] == char_dict[tokens[27]]['rime']:\n",
    "        return 1\n",
    "    else:\n",
    "        return 0"
   ]
  },
  {
   "cell_type": "code",
   "execution_count": 11,
   "id": "86c84dae-5225-450f-816e-bf19edb55a67",
   "metadata": {},
   "outputs": [],
   "source": [
    "def show_meter(tokens):\n",
    "    return [char_dict[i]['meter'] for i in tokens]"
   ]
  },
  {
   "cell_type": "code",
   "execution_count": 12,
   "id": "87fb12ed-dd26-43ad-b0f4-bd7a2d63f5a4",
   "metadata": {},
   "outputs": [],
   "source": [
    "def meter_score(tokens):\n",
    "    meter = [char_dict[i]['meter'] for i in tokens]\n",
    "    scores = []\n",
    "    for n in meters:\n",
    "        scores.append(sum([int(meter[num]==n[num]) for num in n]))\n",
    "    return max(scores)/28"
   ]
  },
  {
   "cell_type": "code",
   "execution_count": 13,
   "id": "75a03a76-7069-4083-a5ab-40295ba14561",
   "metadata": {},
   "outputs": [],
   "source": [
    "poetry.tokens = poetry.text.apply(text_tokenizer)"
   ]
  },
  {
   "cell_type": "code",
   "execution_count": 14,
   "id": "80872e9d-8b25-422f-b5e2-d0ea822e8f57",
   "metadata": {},
   "outputs": [],
   "source": [
    "import tensorflow as tf\n",
    "from tensorflow.keras.models import Sequential\n",
    "from tensorflow.keras.layers import Dense,LSTM,Embedding\n",
    "from tensorflow.keras.utils import to_categorical"
   ]
  },
  {
   "cell_type": "code",
   "execution_count": 15,
   "id": "16d6f615-a97b-4657-8e44-a9e9973dfca7",
   "metadata": {},
   "outputs": [],
   "source": [
    "tf.random.set_seed(42)\n",
    "np.random.seed(42)"
   ]
  },
  {
   "cell_type": "code",
   "execution_count": 16,
   "id": "efc1f5bd-6454-47f0-92be-0cbccd65ecc1",
   "metadata": {},
   "outputs": [],
   "source": [
    "def sequencer(tokens, train_len):\n",
    "    sequences = []\n",
    "    for i in range(train_len, len(tokens)):\n",
    "        seq = tokens[i-train_len: i]\n",
    "        sequences.append(seq)\n",
    "    return sequences"
   ]
  },
  {
   "cell_type": "code",
   "execution_count": 17,
   "id": "75512db2-03a7-416b-89fc-3ada89b68824",
   "metadata": {},
   "outputs": [],
   "source": [
    "sequence_list = []\n",
    "for i in poetry.tokens:\n",
    "    sequence_list += sequencer(i, 8)"
   ]
  },
  {
   "cell_type": "code",
   "execution_count": 18,
   "id": "ca914485-fdd7-40a2-b0e4-5d92f5d9cab5",
   "metadata": {},
   "outputs": [
    {
     "data": {
      "text/plain": [
       "1244220"
      ]
     },
     "execution_count": 18,
     "metadata": {},
     "output_type": "execute_result"
    }
   ],
   "source": [
    "len(sequence_list)"
   ]
  },
  {
   "cell_type": "code",
   "execution_count": 19,
   "id": "1ea82ce8-d25c-4669-8baa-774b21d38a5c",
   "metadata": {},
   "outputs": [],
   "source": [
    "sequence_list = np.array(sequence_list)"
   ]
  },
  {
   "cell_type": "code",
   "execution_count": 20,
   "id": "c4f4fb4f-70c8-4cde-b13e-842b1b4dcaf9",
   "metadata": {},
   "outputs": [],
   "source": [
    "vocabulary_size = len(chars)"
   ]
  },
  {
   "cell_type": "code",
   "execution_count": 21,
   "id": "fb7e0b99-b92f-4dd9-a27c-f566ba528827",
   "metadata": {},
   "outputs": [
    {
     "data": {
      "text/plain": [
       "7980"
      ]
     },
     "execution_count": 21,
     "metadata": {},
     "output_type": "execute_result"
    }
   ],
   "source": [
    "len(chars)"
   ]
  },
  {
   "cell_type": "code",
   "execution_count": 22,
   "id": "a0a705d1-242e-44ad-81c9-96a57e8ae869",
   "metadata": {},
   "outputs": [],
   "source": [
    "X = sequence_list[:,:-1]\n",
    "y = sequence_list[:,-1]"
   ]
  },
  {
   "cell_type": "code",
   "execution_count": 23,
   "id": "91cf7962-0f38-4c28-896d-41f1d399d14f",
   "metadata": {},
   "outputs": [],
   "source": [
    "y = to_categorical(y, num_classes=vocabulary_size)"
   ]
  },
  {
   "cell_type": "code",
   "execution_count": 24,
   "id": "abba68fa-b77b-4e73-874c-09de101156dc",
   "metadata": {},
   "outputs": [],
   "source": [
    "seq_len = X.shape[1]"
   ]
  },
  {
   "cell_type": "code",
   "execution_count": 25,
   "id": "b7bdb0c9-b976-4f47-a269-fad6740adfee",
   "metadata": {},
   "outputs": [
    {
     "data": {
      "text/plain": [
       "(1244220, 7)"
      ]
     },
     "execution_count": 25,
     "metadata": {},
     "output_type": "execute_result"
    }
   ],
   "source": [
    "X.shape"
   ]
  },
  {
   "cell_type": "code",
   "execution_count": 30,
   "id": "d9179976-3e29-4855-b206-da4ae36c81d6",
   "metadata": {},
   "outputs": [
    {
     "name": "stdout",
     "output_type": "stream",
     "text": [
      "Model: \"sequential_2\"\n",
      "_________________________________________________________________\n",
      " Layer (type)                Output Shape              Param #   \n",
      "=================================================================\n",
      " embedding_2 (Embedding)     (None, 7, 7)              55860     \n",
      "                                                                 \n",
      " lstm_4 (LSTM)               (None, 7, 49)             11172     \n",
      "                                                                 \n",
      " lstm_5 (LSTM)               (None, 140)               106400    \n",
      "                                                                 \n",
      " dense_4 (Dense)             (None, 49)                6909      \n",
      "                                                                 \n",
      " dense_5 (Dense)             (None, 7980)              399000    \n",
      "                                                                 \n",
      "=================================================================\n",
      "Total params: 579,341\n",
      "Trainable params: 579,341\n",
      "Non-trainable params: 0\n",
      "_________________________________________________________________\n"
     ]
    }
   ],
   "source": [
    "model = Sequential()\n",
    "model.add(Embedding(vocabulary_size, seq_len, input_length=seq_len))\n",
    "model.add(LSTM(49, return_sequences=True))\n",
    "model.add(LSTM(140))\n",
    "model.add(Dense(49, activation='relu'))\n",
    "\n",
    "model.add(Dense(vocabulary_size, activation='softmax'))\n",
    "    \n",
    "model.compile(loss='categorical_crossentropy', optimizer='adam', metrics=['accuracy'])\n",
    "   \n",
    "model.summary()"
   ]
  },
  {
   "cell_type": "code",
   "execution_count": null,
   "id": "cf37ecb4-9f95-4daa-ab3b-1b1a49de9c66",
   "metadata": {
    "scrolled": true,
    "tags": []
   },
   "outputs": [
    {
     "name": "stdout",
     "output_type": "stream",
     "text": [
      "Epoch 1/200\n",
      "1211/1211 [==============================] - 180s 146ms/step - loss: 7.1114 - accuracy: 0.0146\n",
      "Epoch 2/200\n",
      "1211/1211 [==============================] - 175s 144ms/step - loss: 6.9602 - accuracy: 0.0172\n",
      "Epoch 3/200\n",
      "1211/1211 [==============================] - 170s 140ms/step - loss: 6.8256 - accuracy: 0.0227\n",
      "Epoch 4/200\n",
      "1211/1211 [==============================] - 173s 143ms/step - loss: 6.6456 - accuracy: 0.0315\n",
      "Epoch 5/200\n",
      " 657/1211 [===============>..............] - ETA: 1:22 - loss: 6.4922 - accuracy: 0.0382"
     ]
    }
   ],
   "source": [
    "model.fit(X, y, batch_size=1028, epochs=200, verbose=1)"
   ]
  },
  {
   "cell_type": "code",
   "execution_count": null,
   "id": "94d901fb-257b-43ea-b5fc-9ff2df94b655",
   "metadata": {},
   "outputs": [],
   "source": [
    "char_dict[np.random.randint(0, vocabularly_size)]['char'], char_dict[np.random.randint(0, vocabularly_size)]['char'], char_dict[np.random.randint(0, vocabularly_size)]['char'], char_dict[np.random.randint(0, vocabularly_size)]['char'], char_dict[np.random.randint(0, vocabularly_size)]['char'], char_dict[np.random.randint(0, vocabularly_size)]['char'], char_dict[np.random.randint(0, vocabularly_size)]['char']"
   ]
  }
 ],
 "metadata": {
  "kernelspec": {
   "display_name": "Python 3 (ipykernel)",
   "language": "python",
   "name": "python3"
  },
  "language_info": {
   "codemirror_mode": {
    "name": "ipython",
    "version": 3
   },
   "file_extension": ".py",
   "mimetype": "text/x-python",
   "name": "python",
   "nbconvert_exporter": "python",
   "pygments_lexer": "ipython3",
   "version": "3.9.7"
  }
 },
 "nbformat": 4,
 "nbformat_minor": 5
}
